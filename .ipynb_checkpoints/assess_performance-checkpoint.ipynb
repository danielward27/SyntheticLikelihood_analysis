{
 "cells": [
  {
   "cell_type": "markdown",
   "id": "53c8532e",
   "metadata": {},
   "source": [
    "## Imports"
   ]
  },
  {
   "cell_type": "code",
   "execution_count": 6,
   "id": "0d7e71f4",
   "metadata": {},
   "outputs": [],
   "source": [
    "import numpy as np\n",
    "import pandas as pd\n",
    "import sbibm\n",
    "import torch\n",
    "import altair_saver\n",
    "import tensorflow_probability as tfp\n",
    "import tensorflow as tf\n",
    "\n",
    "\n",
    "from sbibm.metrics import c2st\n",
    "from sbibm.visualisation import fig_posterior\n",
    "from sbibm.metrics import c2st"
   ]
  },
  {
   "cell_type": "markdown",
   "id": "63bb0c3c",
   "metadata": {},
   "source": [
    "## Helper function"
   ]
  },
  {
   "cell_type": "code",
   "execution_count": 2,
   "id": "6bbd84a9",
   "metadata": {},
   "outputs": [],
   "source": [
    "def thin(X, length_out):\n",
    "    assert length_out < X.shape[0]\n",
    "    n = X.shape[0]\n",
    "    keep = np.round(np.linspace(1, n, num = length_out)) - 1\n",
    "    keep = keep.astype(int)\n",
    "    return X[keep, :]"
   ]
  },
  {
   "cell_type": "markdown",
   "id": "527127a2",
   "metadata": {},
   "source": [
    "## Posterior plots"
   ]
  },
  {
   "cell_type": "code",
   "execution_count": 3,
   "id": "9805596d",
   "metadata": {},
   "outputs": [],
   "source": [
    "task_names = [\"gaussian_linear\", \"gaussian_linear_uniform\", \"gaussian_mixture\", \"bernoulli_glm\"]\n",
    "algorithm_names = [\"rula\", \"rwm\", \"snle\"]\n",
    "\n",
    "plot_n = 1000\n",
    "for task_name in task_names:\n",
    "    for algorithm_name in algorithm_names:\n",
    "        posterior_samples = np.genfromtxt(f\"./samples/{task_name}_{algorithm_name}.txt\")\n",
    "        posterior_samples = thin(posterior_samples, plot_n)\n",
    "        posterior_samples = torch.tensor(posterior_samples)        \n",
    "        \n",
    "        n_params = posterior_samples.shape[1] \n",
    "        fig_size = 400-35*n_params\n",
    "        scatter_size = 3.5+0.05*n_params\n",
    "\n",
    "        fig = fig_posterior(\n",
    "            task_name=task_name,\n",
    "            observation=1,\n",
    "            samples_tensor = posterior_samples,\n",
    "            num_samples = plot_n,\n",
    "            config = \"streamlit\",\n",
    "            height = fig_size,\n",
    "            width = fig_size,\n",
    "            scatter_size = scatter_size,\n",
    "            samples_name = algorithm_name\n",
    "        )\n",
    "        altair_saver.save(fig, f\"./plots/{task_name}_{algorithm_name}.html\")\n",
    "\n",
    "    "
   ]
  },
  {
   "cell_type": "markdown",
   "id": "259cf416",
   "metadata": {},
   "source": [
    "## Performance metrics\n",
    "We will compute the classification accuracy twice. Once on all the samples (3000), then once on a thinned sample of 300 points. The size of the reference is matched to the size of the data to make sure the neural network did not have issues with the biased class sizes."
   ]
  },
  {
   "cell_type": "code",
   "execution_count": 16,
   "id": "9ebfd8b4",
   "metadata": {},
   "outputs": [
    {
     "name": "stdout",
     "output_type": "stream",
     "text": [
      "gaussian_linear: rula\n",
      "gaussian_linear: rwm\n",
      "gaussian_linear: snle\n"
     ]
    },
    {
     "name": "stderr",
     "output_type": "stream",
     "text": [
      "/home/dw16200/miniconda3/envs/newsbi_env/lib/python3.9/site-packages/sklearn/neural_network/_multilayer_perceptron.py:619: UserWarning: Training interrupted by user.\n",
      "  warnings.warn(\"Training interrupted by user.\")\n",
      "/home/dw16200/miniconda3/envs/newsbi_env/lib/python3.9/site-packages/sklearn/neural_network/_multilayer_perceptron.py:619: UserWarning: Training interrupted by user.\n",
      "  warnings.warn(\"Training interrupted by user.\")\n",
      "/home/dw16200/miniconda3/envs/newsbi_env/lib/python3.9/site-packages/sklearn/neural_network/_multilayer_perceptron.py:619: UserWarning: Training interrupted by user.\n",
      "  warnings.warn(\"Training interrupted by user.\")\n",
      "/home/dw16200/miniconda3/envs/newsbi_env/lib/python3.9/site-packages/sklearn/neural_network/_multilayer_perceptron.py:619: UserWarning: Training interrupted by user.\n",
      "  warnings.warn(\"Training interrupted by user.\")\n",
      "/home/dw16200/miniconda3/envs/newsbi_env/lib/python3.9/site-packages/sklearn/neural_network/_multilayer_perceptron.py:619: UserWarning: Training interrupted by user.\n",
      "  warnings.warn(\"Training interrupted by user.\")\n",
      "/home/dw16200/miniconda3/envs/newsbi_env/lib/python3.9/site-packages/sklearn/neural_network/_multilayer_perceptron.py:619: UserWarning: Training interrupted by user.\n",
      "  warnings.warn(\"Training interrupted by user.\")\n",
      "/home/dw16200/miniconda3/envs/newsbi_env/lib/python3.9/site-packages/sklearn/neural_network/_multilayer_perceptron.py:619: UserWarning: Training interrupted by user.\n",
      "  warnings.warn(\"Training interrupted by user.\")\n"
     ]
    },
    {
     "name": "stdout",
     "output_type": "stream",
     "text": [
      "gaussian_linear_uniform: rula\n"
     ]
    },
    {
     "name": "stderr",
     "output_type": "stream",
     "text": [
      "/home/dw16200/miniconda3/envs/newsbi_env/lib/python3.9/site-packages/sklearn/neural_network/_multilayer_perceptron.py:619: UserWarning: Training interrupted by user.\n",
      "  warnings.warn(\"Training interrupted by user.\")\n",
      "/home/dw16200/miniconda3/envs/newsbi_env/lib/python3.9/site-packages/sklearn/neural_network/_multilayer_perceptron.py:619: UserWarning: Training interrupted by user.\n",
      "  warnings.warn(\"Training interrupted by user.\")\n",
      "/home/dw16200/miniconda3/envs/newsbi_env/lib/python3.9/site-packages/sklearn/neural_network/_multilayer_perceptron.py:619: UserWarning: Training interrupted by user.\n",
      "  warnings.warn(\"Training interrupted by user.\")\n",
      "/home/dw16200/miniconda3/envs/newsbi_env/lib/python3.9/site-packages/sklearn/neural_network/_multilayer_perceptron.py:619: UserWarning: Training interrupted by user.\n",
      "  warnings.warn(\"Training interrupted by user.\")\n",
      "/home/dw16200/miniconda3/envs/newsbi_env/lib/python3.9/site-packages/sklearn/neural_network/_multilayer_perceptron.py:619: UserWarning: Training interrupted by user.\n",
      "  warnings.warn(\"Training interrupted by user.\")\n",
      "/home/dw16200/miniconda3/envs/newsbi_env/lib/python3.9/site-packages/sklearn/neural_network/_multilayer_perceptron.py:619: UserWarning: Training interrupted by user.\n",
      "  warnings.warn(\"Training interrupted by user.\")\n",
      "/home/dw16200/miniconda3/envs/newsbi_env/lib/python3.9/site-packages/sklearn/neural_network/_multilayer_perceptron.py:619: UserWarning: Training interrupted by user.\n",
      "  warnings.warn(\"Training interrupted by user.\")\n",
      "/home/dw16200/miniconda3/envs/newsbi_env/lib/python3.9/site-packages/sklearn/neural_network/_multilayer_perceptron.py:619: UserWarning: Training interrupted by user.\n",
      "  warnings.warn(\"Training interrupted by user.\")\n",
      "/home/dw16200/miniconda3/envs/newsbi_env/lib/python3.9/site-packages/sklearn/neural_network/_multilayer_perceptron.py:619: UserWarning: Training interrupted by user.\n",
      "  warnings.warn(\"Training interrupted by user.\")\n"
     ]
    },
    {
     "name": "stdout",
     "output_type": "stream",
     "text": [
      "gaussian_linear_uniform: rwm\n"
     ]
    },
    {
     "name": "stderr",
     "output_type": "stream",
     "text": [
      "/home/dw16200/miniconda3/envs/newsbi_env/lib/python3.9/site-packages/sklearn/neural_network/_multilayer_perceptron.py:619: UserWarning: Training interrupted by user.\n",
      "  warnings.warn(\"Training interrupted by user.\")\n",
      "/home/dw16200/miniconda3/envs/newsbi_env/lib/python3.9/site-packages/sklearn/neural_network/_multilayer_perceptron.py:619: UserWarning: Training interrupted by user.\n",
      "  warnings.warn(\"Training interrupted by user.\")\n",
      "/home/dw16200/miniconda3/envs/newsbi_env/lib/python3.9/site-packages/sklearn/neural_network/_multilayer_perceptron.py:619: UserWarning: Training interrupted by user.\n",
      "  warnings.warn(\"Training interrupted by user.\")\n",
      "/home/dw16200/miniconda3/envs/newsbi_env/lib/python3.9/site-packages/sklearn/neural_network/_multilayer_perceptron.py:619: UserWarning: Training interrupted by user.\n",
      "  warnings.warn(\"Training interrupted by user.\")\n",
      "/home/dw16200/miniconda3/envs/newsbi_env/lib/python3.9/site-packages/sklearn/neural_network/_multilayer_perceptron.py:619: UserWarning: Training interrupted by user.\n",
      "  warnings.warn(\"Training interrupted by user.\")\n",
      "/home/dw16200/miniconda3/envs/newsbi_env/lib/python3.9/site-packages/sklearn/neural_network/_multilayer_perceptron.py:619: UserWarning: Training interrupted by user.\n",
      "  warnings.warn(\"Training interrupted by user.\")\n",
      "/home/dw16200/miniconda3/envs/newsbi_env/lib/python3.9/site-packages/sklearn/neural_network/_multilayer_perceptron.py:619: UserWarning: Training interrupted by user.\n",
      "  warnings.warn(\"Training interrupted by user.\")\n",
      "/home/dw16200/miniconda3/envs/newsbi_env/lib/python3.9/site-packages/sklearn/neural_network/_multilayer_perceptron.py:619: UserWarning: Training interrupted by user.\n",
      "  warnings.warn(\"Training interrupted by user.\")\n"
     ]
    },
    {
     "name": "stdout",
     "output_type": "stream",
     "text": [
      "gaussian_linear_uniform: snle\n"
     ]
    },
    {
     "name": "stderr",
     "output_type": "stream",
     "text": [
      "/home/dw16200/miniconda3/envs/newsbi_env/lib/python3.9/site-packages/sklearn/neural_network/_multilayer_perceptron.py:619: UserWarning: Training interrupted by user.\n",
      "  warnings.warn(\"Training interrupted by user.\")\n",
      "/home/dw16200/miniconda3/envs/newsbi_env/lib/python3.9/site-packages/sklearn/neural_network/_multilayer_perceptron.py:619: UserWarning: Training interrupted by user.\n",
      "  warnings.warn(\"Training interrupted by user.\")\n",
      "/home/dw16200/miniconda3/envs/newsbi_env/lib/python3.9/site-packages/sklearn/neural_network/_multilayer_perceptron.py:619: UserWarning: Training interrupted by user.\n",
      "  warnings.warn(\"Training interrupted by user.\")\n",
      "/home/dw16200/miniconda3/envs/newsbi_env/lib/python3.9/site-packages/sklearn/neural_network/_multilayer_perceptron.py:619: UserWarning: Training interrupted by user.\n",
      "  warnings.warn(\"Training interrupted by user.\")\n",
      "/home/dw16200/miniconda3/envs/newsbi_env/lib/python3.9/site-packages/sklearn/neural_network/_multilayer_perceptron.py:619: UserWarning: Training interrupted by user.\n",
      "  warnings.warn(\"Training interrupted by user.\")\n",
      "/home/dw16200/miniconda3/envs/newsbi_env/lib/python3.9/site-packages/sklearn/neural_network/_multilayer_perceptron.py:619: UserWarning: Training interrupted by user.\n",
      "  warnings.warn(\"Training interrupted by user.\")\n",
      "/home/dw16200/miniconda3/envs/newsbi_env/lib/python3.9/site-packages/sklearn/neural_network/_multilayer_perceptron.py:619: UserWarning: Training interrupted by user.\n",
      "  warnings.warn(\"Training interrupted by user.\")\n",
      "/home/dw16200/miniconda3/envs/newsbi_env/lib/python3.9/site-packages/sklearn/neural_network/_multilayer_perceptron.py:619: UserWarning: Training interrupted by user.\n",
      "  warnings.warn(\"Training interrupted by user.\")\n",
      "/home/dw16200/miniconda3/envs/newsbi_env/lib/python3.9/site-packages/sklearn/neural_network/_multilayer_perceptron.py:619: UserWarning: Training interrupted by user.\n",
      "  warnings.warn(\"Training interrupted by user.\")\n",
      "/home/dw16200/miniconda3/envs/newsbi_env/lib/python3.9/site-packages/sklearn/neural_network/_multilayer_perceptron.py:619: UserWarning: Training interrupted by user.\n",
      "  warnings.warn(\"Training interrupted by user.\")\n"
     ]
    },
    {
     "name": "stdout",
     "output_type": "stream",
     "text": [
      "gaussian_mixture: rula\n"
     ]
    },
    {
     "name": "stderr",
     "output_type": "stream",
     "text": [
      "/home/dw16200/miniconda3/envs/newsbi_env/lib/python3.9/site-packages/sklearn/neural_network/_multilayer_perceptron.py:619: UserWarning: Training interrupted by user.\n",
      "  warnings.warn(\"Training interrupted by user.\")\n",
      "/home/dw16200/miniconda3/envs/newsbi_env/lib/python3.9/site-packages/sklearn/neural_network/_multilayer_perceptron.py:619: UserWarning: Training interrupted by user.\n",
      "  warnings.warn(\"Training interrupted by user.\")\n",
      "/home/dw16200/miniconda3/envs/newsbi_env/lib/python3.9/site-packages/sklearn/neural_network/_multilayer_perceptron.py:619: UserWarning: Training interrupted by user.\n",
      "  warnings.warn(\"Training interrupted by user.\")\n",
      "/home/dw16200/miniconda3/envs/newsbi_env/lib/python3.9/site-packages/sklearn/neural_network/_multilayer_perceptron.py:619: UserWarning: Training interrupted by user.\n",
      "  warnings.warn(\"Training interrupted by user.\")\n",
      "/home/dw16200/miniconda3/envs/newsbi_env/lib/python3.9/site-packages/sklearn/neural_network/_multilayer_perceptron.py:619: UserWarning: Training interrupted by user.\n",
      "  warnings.warn(\"Training interrupted by user.\")\n",
      "/home/dw16200/miniconda3/envs/newsbi_env/lib/python3.9/site-packages/sklearn/neural_network/_multilayer_perceptron.py:619: UserWarning: Training interrupted by user.\n",
      "  warnings.warn(\"Training interrupted by user.\")\n",
      "/home/dw16200/miniconda3/envs/newsbi_env/lib/python3.9/site-packages/sklearn/neural_network/_multilayer_perceptron.py:619: UserWarning: Training interrupted by user.\n",
      "  warnings.warn(\"Training interrupted by user.\")\n",
      "/home/dw16200/miniconda3/envs/newsbi_env/lib/python3.9/site-packages/sklearn/neural_network/_multilayer_perceptron.py:619: UserWarning: Training interrupted by user.\n",
      "  warnings.warn(\"Training interrupted by user.\")\n",
      "/home/dw16200/miniconda3/envs/newsbi_env/lib/python3.9/site-packages/sklearn/neural_network/_multilayer_perceptron.py:619: UserWarning: Training interrupted by user.\n",
      "  warnings.warn(\"Training interrupted by user.\")\n"
     ]
    },
    {
     "name": "stdout",
     "output_type": "stream",
     "text": [
      "gaussian_mixture: rwm\n"
     ]
    },
    {
     "name": "stderr",
     "output_type": "stream",
     "text": [
      "/home/dw16200/miniconda3/envs/newsbi_env/lib/python3.9/site-packages/sklearn/neural_network/_multilayer_perceptron.py:619: UserWarning: Training interrupted by user.\n",
      "  warnings.warn(\"Training interrupted by user.\")\n",
      "/home/dw16200/miniconda3/envs/newsbi_env/lib/python3.9/site-packages/sklearn/neural_network/_multilayer_perceptron.py:619: UserWarning: Training interrupted by user.\n",
      "  warnings.warn(\"Training interrupted by user.\")\n",
      "/home/dw16200/miniconda3/envs/newsbi_env/lib/python3.9/site-packages/sklearn/neural_network/_multilayer_perceptron.py:619: UserWarning: Training interrupted by user.\n",
      "  warnings.warn(\"Training interrupted by user.\")\n",
      "/home/dw16200/miniconda3/envs/newsbi_env/lib/python3.9/site-packages/sklearn/neural_network/_multilayer_perceptron.py:619: UserWarning: Training interrupted by user.\n",
      "  warnings.warn(\"Training interrupted by user.\")\n",
      "/home/dw16200/miniconda3/envs/newsbi_env/lib/python3.9/site-packages/sklearn/neural_network/_multilayer_perceptron.py:619: UserWarning: Training interrupted by user.\n",
      "  warnings.warn(\"Training interrupted by user.\")\n",
      "/home/dw16200/miniconda3/envs/newsbi_env/lib/python3.9/site-packages/sklearn/neural_network/_multilayer_perceptron.py:619: UserWarning: Training interrupted by user.\n",
      "  warnings.warn(\"Training interrupted by user.\")\n",
      "/home/dw16200/miniconda3/envs/newsbi_env/lib/python3.9/site-packages/sklearn/neural_network/_multilayer_perceptron.py:619: UserWarning: Training interrupted by user.\n",
      "  warnings.warn(\"Training interrupted by user.\")\n"
     ]
    },
    {
     "name": "stdout",
     "output_type": "stream",
     "text": [
      "gaussian_mixture: snle\n"
     ]
    },
    {
     "name": "stderr",
     "output_type": "stream",
     "text": [
      "/home/dw16200/miniconda3/envs/newsbi_env/lib/python3.9/site-packages/sklearn/neural_network/_multilayer_perceptron.py:619: UserWarning: Training interrupted by user.\n",
      "  warnings.warn(\"Training interrupted by user.\")\n",
      "/home/dw16200/miniconda3/envs/newsbi_env/lib/python3.9/site-packages/sklearn/neural_network/_multilayer_perceptron.py:619: UserWarning: Training interrupted by user.\n",
      "  warnings.warn(\"Training interrupted by user.\")\n",
      "/home/dw16200/miniconda3/envs/newsbi_env/lib/python3.9/site-packages/sklearn/neural_network/_multilayer_perceptron.py:619: UserWarning: Training interrupted by user.\n",
      "  warnings.warn(\"Training interrupted by user.\")\n",
      "/home/dw16200/miniconda3/envs/newsbi_env/lib/python3.9/site-packages/sklearn/neural_network/_multilayer_perceptron.py:619: UserWarning: Training interrupted by user.\n",
      "  warnings.warn(\"Training interrupted by user.\")\n",
      "/home/dw16200/miniconda3/envs/newsbi_env/lib/python3.9/site-packages/sklearn/neural_network/_multilayer_perceptron.py:619: UserWarning: Training interrupted by user.\n",
      "  warnings.warn(\"Training interrupted by user.\")\n",
      "/home/dw16200/miniconda3/envs/newsbi_env/lib/python3.9/site-packages/sklearn/neural_network/_multilayer_perceptron.py:619: UserWarning: Training interrupted by user.\n",
      "  warnings.warn(\"Training interrupted by user.\")\n",
      "/home/dw16200/miniconda3/envs/newsbi_env/lib/python3.9/site-packages/sklearn/neural_network/_multilayer_perceptron.py:619: UserWarning: Training interrupted by user.\n",
      "  warnings.warn(\"Training interrupted by user.\")\n",
      "/home/dw16200/miniconda3/envs/newsbi_env/lib/python3.9/site-packages/sklearn/neural_network/_multilayer_perceptron.py:619: UserWarning: Training interrupted by user.\n",
      "  warnings.warn(\"Training interrupted by user.\")\n",
      "/home/dw16200/miniconda3/envs/newsbi_env/lib/python3.9/site-packages/sklearn/neural_network/_multilayer_perceptron.py:619: UserWarning: Training interrupted by user.\n",
      "  warnings.warn(\"Training interrupted by user.\")\n",
      "/home/dw16200/miniconda3/envs/newsbi_env/lib/python3.9/site-packages/sklearn/neural_network/_multilayer_perceptron.py:619: UserWarning: Training interrupted by user.\n",
      "  warnings.warn(\"Training interrupted by user.\")\n"
     ]
    },
    {
     "name": "stdout",
     "output_type": "stream",
     "text": [
      "bernoulli_glm: rula\n"
     ]
    },
    {
     "ename": "KeyboardInterrupt",
     "evalue": "",
     "output_type": "error",
     "traceback": [
      "\u001b[0;31m---------------------------------------------------------------------------\u001b[0m",
      "\u001b[0;31mKeyboardInterrupt\u001b[0m                         Traceback (most recent call last)",
      "\u001b[0;32m<ipython-input-16-cd53a706c8ba>\u001b[0m in \u001b[0;36m<module>\u001b[0;34m\u001b[0m\n\u001b[1;32m     18\u001b[0m         \u001b[0mreference_samples\u001b[0m \u001b[0;34m=\u001b[0m \u001b[0mtask\u001b[0m\u001b[0;34m.\u001b[0m\u001b[0mget_reference_posterior_samples\u001b[0m\u001b[0;34m(\u001b[0m\u001b[0mnum_observation\u001b[0m\u001b[0;34m=\u001b[0m\u001b[0;36m1\u001b[0m\u001b[0;34m)\u001b[0m\u001b[0;34m\u001b[0m\u001b[0;34m\u001b[0m\u001b[0m\n\u001b[1;32m     19\u001b[0m \u001b[0;34m\u001b[0m\u001b[0m\n\u001b[0;32m---> 20\u001b[0;31m         \u001b[0mess\u001b[0m \u001b[0;34m=\u001b[0m \u001b[0mtfp\u001b[0m\u001b[0;34m.\u001b[0m\u001b[0mmcmc\u001b[0m\u001b[0;34m.\u001b[0m\u001b[0meffective_sample_size\u001b[0m\u001b[0;34m(\u001b[0m\u001b[0mposterior_samples\u001b[0m\u001b[0;34m)\u001b[0m\u001b[0;34m\u001b[0m\u001b[0;34m\u001b[0m\u001b[0m\n\u001b[0m\u001b[1;32m     21\u001b[0m \u001b[0;34m\u001b[0m\u001b[0m\n\u001b[1;32m     22\u001b[0m         \u001b[0mX\u001b[0m \u001b[0;34m=\u001b[0m \u001b[0mposterior_samples\u001b[0m\u001b[0;34m\u001b[0m\u001b[0;34m\u001b[0m\u001b[0m\n",
      "\u001b[0;32m~/miniconda3/envs/newsbi_env/lib/python3.9/site-packages/tensorflow_probability/python/mcmc/diagnostic.py\u001b[0m in \u001b[0;36meffective_sample_size\u001b[0;34m(states, filter_threshold, filter_beyond_lag, filter_beyond_positive_pairs, cross_chain_dims, validate_args, name)\u001b[0m\n\u001b[1;32m    203\u001b[0m   \u001b[0;31m# Process items, one at a time.\u001b[0m\u001b[0;34m\u001b[0m\u001b[0;34m\u001b[0m\u001b[0;34m\u001b[0m\u001b[0m\n\u001b[1;32m    204\u001b[0m   \u001b[0;32mwith\u001b[0m \u001b[0mtf\u001b[0m\u001b[0;34m.\u001b[0m\u001b[0mname_scope\u001b[0m\u001b[0;34m(\u001b[0m\u001b[0;34m'effective_sample_size'\u001b[0m \u001b[0;32mif\u001b[0m \u001b[0mname\u001b[0m \u001b[0;32mis\u001b[0m \u001b[0;32mNone\u001b[0m \u001b[0;32melse\u001b[0m \u001b[0mname\u001b[0m\u001b[0;34m)\u001b[0m\u001b[0;34m:\u001b[0m\u001b[0;34m\u001b[0m\u001b[0;34m\u001b[0m\u001b[0m\n\u001b[0;32m--> 205\u001b[0;31m     ess_list = [\n\u001b[0m\u001b[1;32m    206\u001b[0m         \u001b[0m_effective_sample_size_single_state\u001b[0m\u001b[0;34m(\u001b[0m\u001b[0;34m*\u001b[0m\u001b[0margs\u001b[0m\u001b[0;34m,\u001b[0m \u001b[0mvalidate_args\u001b[0m\u001b[0;34m=\u001b[0m\u001b[0mvalidate_args\u001b[0m\u001b[0;34m)\u001b[0m  \u001b[0;31m# pylint: disable=g-complex-comprehension\u001b[0m\u001b[0;34m\u001b[0m\u001b[0;34m\u001b[0m\u001b[0m\n\u001b[1;32m    207\u001b[0m         for args in zip(states, filter_beyond_lag, filter_threshold,\n",
      "\u001b[0;32m~/miniconda3/envs/newsbi_env/lib/python3.9/site-packages/tensorflow_probability/python/mcmc/diagnostic.py\u001b[0m in \u001b[0;36m<listcomp>\u001b[0;34m(.0)\u001b[0m\n\u001b[1;32m    204\u001b[0m   \u001b[0;32mwith\u001b[0m \u001b[0mtf\u001b[0m\u001b[0;34m.\u001b[0m\u001b[0mname_scope\u001b[0m\u001b[0;34m(\u001b[0m\u001b[0;34m'effective_sample_size'\u001b[0m \u001b[0;32mif\u001b[0m \u001b[0mname\u001b[0m \u001b[0;32mis\u001b[0m \u001b[0;32mNone\u001b[0m \u001b[0;32melse\u001b[0m \u001b[0mname\u001b[0m\u001b[0;34m)\u001b[0m\u001b[0;34m:\u001b[0m\u001b[0;34m\u001b[0m\u001b[0;34m\u001b[0m\u001b[0m\n\u001b[1;32m    205\u001b[0m     ess_list = [\n\u001b[0;32m--> 206\u001b[0;31m         \u001b[0m_effective_sample_size_single_state\u001b[0m\u001b[0;34m(\u001b[0m\u001b[0;34m*\u001b[0m\u001b[0margs\u001b[0m\u001b[0;34m,\u001b[0m \u001b[0mvalidate_args\u001b[0m\u001b[0;34m=\u001b[0m\u001b[0mvalidate_args\u001b[0m\u001b[0;34m)\u001b[0m  \u001b[0;31m# pylint: disable=g-complex-comprehension\u001b[0m\u001b[0;34m\u001b[0m\u001b[0;34m\u001b[0m\u001b[0m\n\u001b[0m\u001b[1;32m    207\u001b[0m         for args in zip(states, filter_beyond_lag, filter_threshold,\n\u001b[1;32m    208\u001b[0m                         filter_beyond_positive_pairs, cross_chain_dims)\n",
      "\u001b[0;32m~/miniconda3/envs/newsbi_env/lib/python3.9/site-packages/tensorflow_probability/python/mcmc/diagnostic.py\u001b[0m in \u001b[0;36m_effective_sample_size_single_state\u001b[0;34m(states, filter_beyond_lag, filter_threshold, filter_beyond_positive_pairs, cross_chain_dims, validate_args)\u001b[0m\n\u001b[1;32m    227\u001b[0m \u001b[0;34m\u001b[0m\u001b[0m\n\u001b[1;32m    228\u001b[0m     \u001b[0;31m# filter_beyond_lag == None ==> auto_corr is the full sequence.\u001b[0m\u001b[0;34m\u001b[0m\u001b[0;34m\u001b[0m\u001b[0;34m\u001b[0m\u001b[0m\n\u001b[0;32m--> 229\u001b[0;31m     auto_cov = stats.auto_correlation(\n\u001b[0m\u001b[1;32m    230\u001b[0m         states, axis=0, max_lags=filter_beyond_lag, normalize=False)\n\u001b[1;32m    231\u001b[0m     \u001b[0mn\u001b[0m \u001b[0;34m=\u001b[0m \u001b[0m_axis_size\u001b[0m\u001b[0;34m(\u001b[0m\u001b[0mstates\u001b[0m\u001b[0;34m,\u001b[0m \u001b[0maxis\u001b[0m\u001b[0;34m=\u001b[0m\u001b[0;36m0\u001b[0m\u001b[0;34m)\u001b[0m\u001b[0;34m\u001b[0m\u001b[0;34m\u001b[0m\u001b[0m\n",
      "\u001b[0;32m~/miniconda3/envs/newsbi_env/lib/python3.9/site-packages/tensorflow_probability/python/stats/sample_stats.py\u001b[0m in \u001b[0;36mauto_correlation\u001b[0;34m(x, axis, max_lags, center, normalize, name)\u001b[0m\n\u001b[1;32m    162\u001b[0m \u001b[0;34m\u001b[0m\u001b[0m\n\u001b[1;32m    163\u001b[0m     \u001b[0;31m# Autocorrelation is IFFT of power-spectral density (up to some scaling).\u001b[0m\u001b[0;34m\u001b[0m\u001b[0;34m\u001b[0m\u001b[0;34m\u001b[0m\u001b[0m\n\u001b[0;32m--> 164\u001b[0;31m     \u001b[0mfft_x_rotated_pad\u001b[0m \u001b[0;34m=\u001b[0m \u001b[0mtf\u001b[0m\u001b[0;34m.\u001b[0m\u001b[0msignal\u001b[0m\u001b[0;34m.\u001b[0m\u001b[0mfft\u001b[0m\u001b[0;34m(\u001b[0m\u001b[0mx_rotated_pad\u001b[0m\u001b[0;34m)\u001b[0m\u001b[0;34m\u001b[0m\u001b[0;34m\u001b[0m\u001b[0m\n\u001b[0m\u001b[1;32m    165\u001b[0m     \u001b[0mspectral_density\u001b[0m \u001b[0;34m=\u001b[0m \u001b[0mfft_x_rotated_pad\u001b[0m \u001b[0;34m*\u001b[0m \u001b[0mtf\u001b[0m\u001b[0;34m.\u001b[0m\u001b[0mmath\u001b[0m\u001b[0;34m.\u001b[0m\u001b[0mconj\u001b[0m\u001b[0;34m(\u001b[0m\u001b[0mfft_x_rotated_pad\u001b[0m\u001b[0;34m)\u001b[0m\u001b[0;34m\u001b[0m\u001b[0;34m\u001b[0m\u001b[0m\n\u001b[1;32m    166\u001b[0m     \u001b[0;31m# shifted_product is R[m] from above detailed explanation.\u001b[0m\u001b[0;34m\u001b[0m\u001b[0;34m\u001b[0m\u001b[0;34m\u001b[0m\u001b[0m\n",
      "\u001b[0;32m~/miniconda3/envs/newsbi_env/lib/python3.9/site-packages/tensorflow/python/ops/gen_spectral_ops.py\u001b[0m in \u001b[0;36mfft\u001b[0;34m(input, name)\u001b[0m\n\u001b[1;32m    367\u001b[0m   \u001b[0;32mif\u001b[0m \u001b[0mtld\u001b[0m\u001b[0;34m.\u001b[0m\u001b[0mis_eager\u001b[0m\u001b[0;34m:\u001b[0m\u001b[0;34m\u001b[0m\u001b[0;34m\u001b[0m\u001b[0m\n\u001b[1;32m    368\u001b[0m     \u001b[0;32mtry\u001b[0m\u001b[0;34m:\u001b[0m\u001b[0;34m\u001b[0m\u001b[0;34m\u001b[0m\u001b[0m\n\u001b[0;32m--> 369\u001b[0;31m       _result = pywrap_tfe.TFE_Py_FastPathExecute(\n\u001b[0m\u001b[1;32m    370\u001b[0m         _ctx, \"FFT\", name, input)\n\u001b[1;32m    371\u001b[0m       \u001b[0;32mreturn\u001b[0m \u001b[0m_result\u001b[0m\u001b[0;34m\u001b[0m\u001b[0;34m\u001b[0m\u001b[0m\n",
      "\u001b[0;31mKeyboardInterrupt\u001b[0m: "
     ]
    }
   ],
   "source": [
    "metrics = {\n",
    "    \"task\": [],\n",
    "    \"algorithm\":  [],\n",
    "    \"min_ess\": [],\n",
    "    \"mean_ess\": [],\n",
    "    \"max_ess\": [],\n",
    "    \"c2st_all\": [],\n",
    "    # \"c2st_thinned\": [] Not too sure this is a good idea yet\n",
    "}\n",
    "\n",
    "tf.config.experimental.enable_tensor_float_32_execution(False)\n",
    "\n",
    "for task_name in task_names:\n",
    "    for algoritm_name in algorithm_names:\n",
    "        print(f\"{task_name}: {algoritm_name}\")\n",
    "        posterior_samples = torch.tensor(np.genfromtxt(f\"./samples/{task_name}_{algoritm_name}.txt\"))\n",
    "        task = sbibm.get_task(task_name)\n",
    "        reference_samples = task.get_reference_posterior_samples(num_observation=1)\n",
    "        \n",
    "        ess = tfp.mcmc.effective_sample_size(posterior_samples)\n",
    "\n",
    "        X = posterior_samples\n",
    "        Y = reference_samples[1:X.shape[0], :]\n",
    "        c2st_all = c2st(X, Y)[0].item()\n",
    "            \n",
    "        metrics[\"task\"].append(task_name)\n",
    "        metrics[\"algorithm\"].append(algoritm_name)\n",
    "        metrics[\"min_ess\"].append(np.min(ess))\n",
    "        metrics[\"mean_ess\"].append(np.mean(ess))\n",
    "        metrics[\"max_ess\"].append(np.max(ess))\n",
    "        metrics[\"c2st_all\"].append(c2st_all)\n",
    "        \n",
    "        # X = thin(posterior_samples, round(np.mean(ess)))\n",
    "        # Y = reference_samples[1:X.shape[0], :]\n",
    "        # c2st_thinned = c2st(X, Y)[0].item()  \n",
    "        # metrics[\"c2st_thinned\"].append(c2st_thinned)\n"
   ]
  },
  {
   "cell_type": "code",
   "execution_count": 75,
   "id": "688185a9",
   "metadata": {},
   "outputs": [
    {
     "data": {
      "text/html": [
       "<div>\n",
       "<style scoped>\n",
       "    .dataframe tbody tr th:only-of-type {\n",
       "        vertical-align: middle;\n",
       "    }\n",
       "\n",
       "    .dataframe tbody tr th {\n",
       "        vertical-align: top;\n",
       "    }\n",
       "\n",
       "    .dataframe thead th {\n",
       "        text-align: right;\n",
       "    }\n",
       "</style>\n",
       "<table border=\"1\" class=\"dataframe\">\n",
       "  <thead>\n",
       "    <tr style=\"text-align: right;\">\n",
       "      <th></th>\n",
       "      <th>task</th>\n",
       "      <th>algorithm</th>\n",
       "      <th>min_ess</th>\n",
       "      <th>mean_ess</th>\n",
       "      <th>max_ess</th>\n",
       "      <th>c2st_all</th>\n",
       "      <th>c2st_thinned</th>\n",
       "    </tr>\n",
       "  </thead>\n",
       "  <tbody>\n",
       "    <tr>\n",
       "      <th>0</th>\n",
       "      <td>gaussian_linear</td>\n",
       "      <td>rula</td>\n",
       "      <td>85.013037</td>\n",
       "      <td>118.945659</td>\n",
       "      <td>153.504177</td>\n",
       "      <td>0.724957</td>\n",
       "      <td>0.552591</td>\n",
       "    </tr>\n",
       "    <tr>\n",
       "      <th>1</th>\n",
       "      <td>gaussian_linear</td>\n",
       "      <td>rwm</td>\n",
       "      <td>56.993460</td>\n",
       "      <td>88.959584</td>\n",
       "      <td>129.906762</td>\n",
       "      <td>0.900652</td>\n",
       "      <td>0.584384</td>\n",
       "    </tr>\n",
       "    <tr>\n",
       "      <th>2</th>\n",
       "      <td>gaussian_linear_uniform</td>\n",
       "      <td>rula</td>\n",
       "      <td>60.307508</td>\n",
       "      <td>155.880855</td>\n",
       "      <td>296.382084</td>\n",
       "      <td>0.777798</td>\n",
       "      <td>0.577703</td>\n",
       "    </tr>\n",
       "    <tr>\n",
       "      <th>3</th>\n",
       "      <td>gaussian_linear_uniform</td>\n",
       "      <td>rwm</td>\n",
       "      <td>9.524780</td>\n",
       "      <td>27.654697</td>\n",
       "      <td>59.290260</td>\n",
       "      <td>0.957658</td>\n",
       "      <td>0.759552</td>\n",
       "    </tr>\n",
       "    <tr>\n",
       "      <th>4</th>\n",
       "      <td>gaussian_mixture</td>\n",
       "      <td>rula</td>\n",
       "      <td>222.964385</td>\n",
       "      <td>224.768997</td>\n",
       "      <td>226.573609</td>\n",
       "      <td>0.770626</td>\n",
       "      <td>0.774566</td>\n",
       "    </tr>\n",
       "    <tr>\n",
       "      <th>5</th>\n",
       "      <td>gaussian_mixture</td>\n",
       "      <td>rwm</td>\n",
       "      <td>197.251002</td>\n",
       "      <td>225.267330</td>\n",
       "      <td>253.283659</td>\n",
       "      <td>0.792299</td>\n",
       "      <td>0.757885</td>\n",
       "    </tr>\n",
       "    <tr>\n",
       "      <th>6</th>\n",
       "      <td>bernoulli_glm</td>\n",
       "      <td>rula</td>\n",
       "      <td>167.468600</td>\n",
       "      <td>261.934692</td>\n",
       "      <td>409.087939</td>\n",
       "      <td>0.690614</td>\n",
       "      <td>0.671176</td>\n",
       "    </tr>\n",
       "    <tr>\n",
       "      <th>7</th>\n",
       "      <td>bernoulli_glm</td>\n",
       "      <td>rwm</td>\n",
       "      <td>29.020225</td>\n",
       "      <td>70.791933</td>\n",
       "      <td>127.209974</td>\n",
       "      <td>0.906484</td>\n",
       "      <td>0.667899</td>\n",
       "    </tr>\n",
       "  </tbody>\n",
       "</table>\n",
       "</div>"
      ],
      "text/plain": [
       "                      task algorithm     min_ess    mean_ess     max_ess  \\\n",
       "0          gaussian_linear      rula   85.013037  118.945659  153.504177   \n",
       "1          gaussian_linear       rwm   56.993460   88.959584  129.906762   \n",
       "2  gaussian_linear_uniform      rula   60.307508  155.880855  296.382084   \n",
       "3  gaussian_linear_uniform       rwm    9.524780   27.654697   59.290260   \n",
       "4         gaussian_mixture      rula  222.964385  224.768997  226.573609   \n",
       "5         gaussian_mixture       rwm  197.251002  225.267330  253.283659   \n",
       "6            bernoulli_glm      rula  167.468600  261.934692  409.087939   \n",
       "7            bernoulli_glm       rwm   29.020225   70.791933  127.209974   \n",
       "\n",
       "   c2st_all  c2st_thinned  \n",
       "0  0.724957      0.552591  \n",
       "1  0.900652      0.584384  \n",
       "2  0.777798      0.577703  \n",
       "3  0.957658      0.759552  \n",
       "4  0.770626      0.774566  \n",
       "5  0.792299      0.757885  \n",
       "6  0.690614      0.671176  \n",
       "7  0.906484      0.667899  "
      ]
     },
     "execution_count": 75,
     "metadata": {},
     "output_type": "execute_result"
    }
   ],
   "source": [
    "df = pd.DataFrame(metrics)\n",
    "df"
   ]
  },
  {
   "cell_type": "markdown",
   "id": "42db1ca0",
   "metadata": {},
   "source": [
    "### Combine this with other results"
   ]
  },
  {
   "cell_type": "code",
   "execution_count": 76,
   "id": "95c5107d",
   "metadata": {},
   "outputs": [],
   "source": [
    "rula_df = pd.read_csv(\"results/rula.csv\")\n",
    "rula_df[\"algorithm\"] = \"rula\"\n",
    "rula_df[\"acceptance_rate\"] = 1.\n",
    "\n",
    "rwm_df = pd.read_csv(\"results/rwm.csv\")\n",
    "rwm_df[\"algorithm\"] = \"rwm\""
   ]
  },
  {
   "cell_type": "code",
   "execution_count": 77,
   "id": "5f2b4703",
   "metadata": {},
   "outputs": [
    {
     "data": {
      "text/html": [
       "<div>\n",
       "<style scoped>\n",
       "    .dataframe tbody tr th:only-of-type {\n",
       "        vertical-align: middle;\n",
       "    }\n",
       "\n",
       "    .dataframe tbody tr th {\n",
       "        vertical-align: top;\n",
       "    }\n",
       "\n",
       "    .dataframe thead th {\n",
       "        text-align: right;\n",
       "    }\n",
       "</style>\n",
       "<table border=\"1\" class=\"dataframe\">\n",
       "  <thead>\n",
       "    <tr style=\"text-align: right;\">\n",
       "      <th></th>\n",
       "      <th>task</th>\n",
       "      <th>algorithm</th>\n",
       "      <th>min_ess</th>\n",
       "      <th>mean_ess</th>\n",
       "      <th>max_ess</th>\n",
       "      <th>c2st_all</th>\n",
       "      <th>c2st_thinned</th>\n",
       "      <th>run_time</th>\n",
       "      <th>acceptance_rate</th>\n",
       "    </tr>\n",
       "  </thead>\n",
       "  <tbody>\n",
       "    <tr>\n",
       "      <th>0</th>\n",
       "      <td>gaussian_linear</td>\n",
       "      <td>rula</td>\n",
       "      <td>85.013037</td>\n",
       "      <td>118.945659</td>\n",
       "      <td>153.504177</td>\n",
       "      <td>0.724957</td>\n",
       "      <td>0.552591</td>\n",
       "      <td>1648.154514</td>\n",
       "      <td>1.000000</td>\n",
       "    </tr>\n",
       "    <tr>\n",
       "      <th>1</th>\n",
       "      <td>gaussian_linear</td>\n",
       "      <td>rwm</td>\n",
       "      <td>56.993460</td>\n",
       "      <td>88.959584</td>\n",
       "      <td>129.906762</td>\n",
       "      <td>0.900652</td>\n",
       "      <td>0.584384</td>\n",
       "      <td>1252.732598</td>\n",
       "      <td>0.228000</td>\n",
       "    </tr>\n",
       "    <tr>\n",
       "      <th>2</th>\n",
       "      <td>gaussian_linear_uniform</td>\n",
       "      <td>rula</td>\n",
       "      <td>60.307508</td>\n",
       "      <td>155.880855</td>\n",
       "      <td>296.382084</td>\n",
       "      <td>0.777798</td>\n",
       "      <td>0.577703</td>\n",
       "      <td>1580.158199</td>\n",
       "      <td>1.000000</td>\n",
       "    </tr>\n",
       "    <tr>\n",
       "      <th>3</th>\n",
       "      <td>gaussian_linear_uniform</td>\n",
       "      <td>rwm</td>\n",
       "      <td>9.524780</td>\n",
       "      <td>27.654697</td>\n",
       "      <td>59.290260</td>\n",
       "      <td>0.957658</td>\n",
       "      <td>0.759552</td>\n",
       "      <td>1557.335829</td>\n",
       "      <td>0.422667</td>\n",
       "    </tr>\n",
       "    <tr>\n",
       "      <th>4</th>\n",
       "      <td>gaussian_mixture</td>\n",
       "      <td>rula</td>\n",
       "      <td>222.964385</td>\n",
       "      <td>224.768997</td>\n",
       "      <td>226.573609</td>\n",
       "      <td>0.770626</td>\n",
       "      <td>0.774566</td>\n",
       "      <td>734.566935</td>\n",
       "      <td>1.000000</td>\n",
       "    </tr>\n",
       "    <tr>\n",
       "      <th>5</th>\n",
       "      <td>gaussian_mixture</td>\n",
       "      <td>rwm</td>\n",
       "      <td>197.251002</td>\n",
       "      <td>225.267330</td>\n",
       "      <td>253.283659</td>\n",
       "      <td>0.792299</td>\n",
       "      <td>0.757885</td>\n",
       "      <td>652.657740</td>\n",
       "      <td>0.405333</td>\n",
       "    </tr>\n",
       "    <tr>\n",
       "      <th>6</th>\n",
       "      <td>bernoulli_glm</td>\n",
       "      <td>rula</td>\n",
       "      <td>167.468600</td>\n",
       "      <td>261.934692</td>\n",
       "      <td>409.087939</td>\n",
       "      <td>0.690614</td>\n",
       "      <td>0.671176</td>\n",
       "      <td>1639.482386</td>\n",
       "      <td>1.000000</td>\n",
       "    </tr>\n",
       "    <tr>\n",
       "      <th>7</th>\n",
       "      <td>bernoulli_glm</td>\n",
       "      <td>rwm</td>\n",
       "      <td>29.020225</td>\n",
       "      <td>70.791933</td>\n",
       "      <td>127.209974</td>\n",
       "      <td>0.906484</td>\n",
       "      <td>0.667899</td>\n",
       "      <td>1158.862684</td>\n",
       "      <td>0.320000</td>\n",
       "    </tr>\n",
       "  </tbody>\n",
       "</table>\n",
       "</div>"
      ],
      "text/plain": [
       "                      task algorithm     min_ess    mean_ess     max_ess  \\\n",
       "0          gaussian_linear      rula   85.013037  118.945659  153.504177   \n",
       "1          gaussian_linear       rwm   56.993460   88.959584  129.906762   \n",
       "2  gaussian_linear_uniform      rula   60.307508  155.880855  296.382084   \n",
       "3  gaussian_linear_uniform       rwm    9.524780   27.654697   59.290260   \n",
       "4         gaussian_mixture      rula  222.964385  224.768997  226.573609   \n",
       "5         gaussian_mixture       rwm  197.251002  225.267330  253.283659   \n",
       "6            bernoulli_glm      rula  167.468600  261.934692  409.087939   \n",
       "7            bernoulli_glm       rwm   29.020225   70.791933  127.209974   \n",
       "\n",
       "   c2st_all  c2st_thinned     run_time  acceptance_rate  \n",
       "0  0.724957      0.552591  1648.154514         1.000000  \n",
       "1  0.900652      0.584384  1252.732598         0.228000  \n",
       "2  0.777798      0.577703  1580.158199         1.000000  \n",
       "3  0.957658      0.759552  1557.335829         0.422667  \n",
       "4  0.770626      0.774566   734.566935         1.000000  \n",
       "5  0.792299      0.757885   652.657740         0.405333  \n",
       "6  0.690614      0.671176  1639.482386         1.000000  \n",
       "7  0.906484      0.667899  1158.862684         0.320000  "
      ]
     },
     "execution_count": 77,
     "metadata": {},
     "output_type": "execute_result"
    }
   ],
   "source": [
    "df = df.merge(rula_df.append(rwm_df), on = [\"task\", \"algorithm\"])\n",
    "df"
   ]
  },
  {
   "cell_type": "code",
   "execution_count": 78,
   "id": "708b57be",
   "metadata": {},
   "outputs": [],
   "source": [
    "df.to_csv(\"results/general_performance.csv\")"
   ]
  },
  {
   "cell_type": "markdown",
   "id": "60dc00de",
   "metadata": {},
   "source": [
    "## Compare to sequential neural likelihood estimation"
   ]
  },
  {
   "cell_type": "code",
   "execution_count": null,
   "id": "f3409e12",
   "metadata": {},
   "outputs": [],
   "source": []
  }
 ],
 "metadata": {
  "kernelspec": {
   "display_name": "Python 3",
   "language": "python",
   "name": "python3"
  },
  "language_info": {
   "codemirror_mode": {
    "name": "ipython",
    "version": 3
   },
   "file_extension": ".py",
   "mimetype": "text/x-python",
   "name": "python",
   "nbconvert_exporter": "python",
   "pygments_lexer": "ipython3",
   "version": "3.9.4"
  }
 },
 "nbformat": 4,
 "nbformat_minor": 5
}
