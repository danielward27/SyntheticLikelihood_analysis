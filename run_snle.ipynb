{
 "cells": [
  {
   "cell_type": "markdown",
   "id": "41de5259",
   "metadata": {},
   "source": [
    "## Run SNLE on the tasks\n",
    "I had some issues running this. It seems there is a bug which causes the second algorithm to fail (perhaps sbibm mutates something it shouldn't??). It works if you restart the kernel before running each algorithm, hence the goofy code to make that more convenient..."
   ]
  },
  {
   "cell_type": "markdown",
   "id": "deca70c2",
   "metadata": {},
   "source": [
    "### Imports"
   ]
  },
  {
   "cell_type": "code",
   "execution_count": 1,
   "id": "3bec5e87",
   "metadata": {},
   "outputs": [],
   "source": [
    "import sbibm\n",
    "from sbibm.algorithms import snle\n",
    "import time\n",
    "import numpy as np\n",
    "import pandas as pd\n",
    "import os.path\n",
    "import csv\n"
   ]
  },
  {
   "cell_type": "code",
   "execution_count": 2,
   "id": "fe957982-ab21-4edc-b2ee-d6265422da1c",
   "metadata": {},
   "outputs": [],
   "source": [
    "i = 0\n",
    "results_path = \"results/snlp.csv\"\n"
   ]
  },
  {
   "cell_type": "markdown",
   "id": "a4b841ed",
   "metadata": {},
   "source": [
    "## Run SNLE"
   ]
  },
  {
   "cell_type": "code",
   "execution_count": 3,
   "id": "996b4ab7",
   "metadata": {},
   "outputs": [],
   "source": [
    "n_sim = 100_000\n",
    "n_samples = 3000\n",
    "task_names = [\"gaussian_linear\", \"gaussian_linear_uniform\", \"bernoulli_glm\", \"gaussian_mixture\", \"sir\"]"
   ]
  },
  {
   "cell_type": "code",
   "execution_count": 4,
   "id": "1ae42b5e-bb52-40bd-89a0-bea079754407",
   "metadata": {},
   "outputs": [],
   "source": [
    "def run_snle(task_name, seed = 1):\n",
    "    np.random.seed(seed)\n",
    "    print(f\"Running task {task_name}\")\n",
    "    task = sbibm.get_task(task_name)\n",
    "    start_time = time.time()\n",
    "    posterior_samples, _, _ = snle(task=task, num_samples=n_samples, num_observation=1, num_simulations=n_sim)\n",
    "    elapsed_time = time.time() - start_time\n",
    "    print(f\"Elapsed time: {elapsed_time}\")\n",
    "    np.savetxt(f\"./samples/{task_name}_snle.txt\", posterior_samples.numpy(), delimiter = \"\\t\")\n",
    "    results = {}\n",
    "    results[\"tasks\"] = task_name\n",
    "    results[\"run_times\"] = elapsed_time\n",
    "    return results\n"
   ]
  },
  {
   "cell_type": "code",
   "execution_count": 5,
   "id": "7ee78035-3c18-4998-96ef-18c30a5df5a6",
   "metadata": {
    "tags": []
   },
   "outputs": [
    {
     "name": "stdout",
     "output_type": "stream",
     "text": [
      "Running task gaussian_linear\n"
     ]
    },
    {
     "data": {
      "application/vnd.jupyter.widget-view+json": {
       "model_id": "e0e25057f27d42cb9906e829b77d7eb1",
       "version_major": 2,
       "version_minor": 0
      },
      "text/plain": [
       "Running 10000 simulations.:   0%|          | 0/10000 [00:00<?, ?it/s]"
      ]
     },
     "metadata": {},
     "output_type": "display_data"
    },
    {
     "name": "stdout",
     "output_type": "stream",
     "text": [
      "Neural network successfully converged after 240 epochs.\n",
      "\n",
      "        -------------------------\n",
      "        ||||| ROUND 1 STATS |||||:\n",
      "        -------------------------\n",
      "        Epochs trained: 240\n",
      "        Best validation performance: -2.9493\n",
      "        -------------------------\n",
      "        \n"
     ]
    },
    {
     "name": "stderr",
     "output_type": "stream",
     "text": [
      "  0%|          | 0/125000 [00:00<?, ?it/s]"
     ]
    },
    {
     "name": "stdout",
     "output_type": "stream",
     "text": [
      "Generating MCMC samples\n"
     ]
    },
    {
     "name": "stderr",
     "output_type": "stream",
     "text": [
      "100%|██████████| 125000/125000 [07:27<00:00, 26.28it/s] "
     ]
    },
    {
     "data": {
      "application/vnd.jupyter.widget-view+json": {
       "model_id": "f9e3ba431b074d3f96767da8b9893fbf",
       "version_major": 2,
       "version_minor": 0
      },
      "text/plain": [
       "Running 10000 simulations.:   0%|          | 0/10000 [00:00<?, ?it/s]"
      ]
     },
     "metadata": {},
     "output_type": "display_data"
    },
    {
     "name": "stderr",
     "output_type": "stream",
     "text": [
      "100%|██████████| 125000/125000 [07:27<00:00, 279.29it/s]\n"
     ]
    },
    {
     "name": "stdout",
     "output_type": "stream",
     "text": [
      "Neural network successfully converged after 123 epochs.\n",
      "\n",
      "        -------------------------\n",
      "        ||||| ROUND 2 STATS |||||:\n",
      "        -------------------------\n",
      "        Epochs trained: 123\n",
      "        Best validation performance: -2.7812\n",
      "        -------------------------\n",
      "        \n"
     ]
    },
    {
     "name": "stderr",
     "output_type": "stream",
     "text": [
      "  0%|          | 0/125000 [00:00<?, ?it/s]"
     ]
    },
    {
     "name": "stdout",
     "output_type": "stream",
     "text": [
      "Generating MCMC samples\n"
     ]
    },
    {
     "name": "stderr",
     "output_type": "stream",
     "text": [
      "100%|█████████▉| 124990/125000 [07:33<00:00, 44.90it/s] "
     ]
    },
    {
     "data": {
      "application/vnd.jupyter.widget-view+json": {
       "model_id": "bfb4b950a5a54b6a95fc2b631e94a99d",
       "version_major": 2,
       "version_minor": 0
      },
      "text/plain": [
       "Running 10000 simulations.:   0%|          | 0/10000 [00:00<?, ?it/s]"
      ]
     },
     "metadata": {},
     "output_type": "display_data"
    },
    {
     "name": "stderr",
     "output_type": "stream",
     "text": [
      "100%|██████████| 125000/125000 [07:33<00:00, 275.73it/s]\n"
     ]
    },
    {
     "name": "stdout",
     "output_type": "stream",
     "text": [
      "Neural network successfully converged after 49 epochs.\n",
      "\n",
      "        -------------------------\n",
      "        ||||| ROUND 3 STATS |||||:\n",
      "        -------------------------\n",
      "        Epochs trained: 49\n",
      "        Best validation performance: -2.7578\n",
      "        -------------------------\n",
      "        \n"
     ]
    },
    {
     "name": "stderr",
     "output_type": "stream",
     "text": [
      "  0%|          | 0/125000 [00:00<?, ?it/s]"
     ]
    },
    {
     "name": "stdout",
     "output_type": "stream",
     "text": [
      "Generating MCMC samples\n"
     ]
    },
    {
     "name": "stderr",
     "output_type": "stream",
     "text": [
      "100%|██████████| 125000/125000 [13:24<00:00, 21.56it/s] "
     ]
    },
    {
     "data": {
      "application/vnd.jupyter.widget-view+json": {
       "model_id": "d937acff0b9b4d618a005d79238bce26",
       "version_major": 2,
       "version_minor": 0
      },
      "text/plain": [
       "Running 10000 simulations.:   0%|          | 0/10000 [00:00<?, ?it/s]"
      ]
     },
     "metadata": {},
     "output_type": "display_data"
    },
    {
     "name": "stderr",
     "output_type": "stream",
     "text": [
      "100%|██████████| 125000/125000 [13:24<00:00, 155.39it/s]\n"
     ]
    },
    {
     "name": "stdout",
     "output_type": "stream",
     "text": [
      "Neural network successfully converged after 52 epochs.\n",
      "\n",
      "        -------------------------\n",
      "        ||||| ROUND 4 STATS |||||:\n",
      "        -------------------------\n",
      "        Epochs trained: 52\n",
      "        Best validation performance: -2.7690\n",
      "        -------------------------\n",
      "        \n"
     ]
    },
    {
     "name": "stderr",
     "output_type": "stream",
     "text": [
      "  0%|          | 0/125000 [00:00<?, ?it/s]"
     ]
    },
    {
     "name": "stdout",
     "output_type": "stream",
     "text": [
      "Generating MCMC samples\n"
     ]
    },
    {
     "name": "stderr",
     "output_type": "stream",
     "text": [
      "100%|██████████| 125000/125000 [10:11<00:00, 50.49it/s] "
     ]
    },
    {
     "data": {
      "application/vnd.jupyter.widget-view+json": {
       "model_id": "edb573c540d7427eb43ffc1f602f4889",
       "version_major": 2,
       "version_minor": 0
      },
      "text/plain": [
       "Running 10000 simulations.:   0%|          | 0/10000 [00:00<?, ?it/s]"
      ]
     },
     "metadata": {},
     "output_type": "display_data"
    },
    {
     "name": "stderr",
     "output_type": "stream",
     "text": [
      "100%|██████████| 125000/125000 [10:11<00:00, 204.52it/s]\n"
     ]
    },
    {
     "name": "stdout",
     "output_type": "stream",
     "text": [
      "Neural network successfully converged after 28 epochs.\n",
      "\n",
      "        -------------------------\n",
      "        ||||| ROUND 5 STATS |||||:\n",
      "        -------------------------\n",
      "        Epochs trained: 28\n",
      "        Best validation performance: -2.7046\n",
      "        -------------------------\n",
      "        \n"
     ]
    },
    {
     "name": "stderr",
     "output_type": "stream",
     "text": [
      "  0%|          | 0/125000 [00:00<?, ?it/s]"
     ]
    },
    {
     "name": "stdout",
     "output_type": "stream",
     "text": [
      "Generating MCMC samples\n"
     ]
    },
    {
     "name": "stderr",
     "output_type": "stream",
     "text": [
      "100%|█████████▉| 124990/125000 [07:39<00:00, 131.19it/s]"
     ]
    },
    {
     "data": {
      "application/vnd.jupyter.widget-view+json": {
       "model_id": "31c8397a8c6442a081321049e7b23252",
       "version_major": 2,
       "version_minor": 0
      },
      "text/plain": [
       "Running 10000 simulations.:   0%|          | 0/10000 [00:00<?, ?it/s]"
      ]
     },
     "metadata": {},
     "output_type": "display_data"
    },
    {
     "name": "stderr",
     "output_type": "stream",
     "text": [
      "100%|██████████| 125000/125000 [07:39<00:00, 271.76it/s]\n"
     ]
    },
    {
     "name": "stdout",
     "output_type": "stream",
     "text": [
      "Neural network successfully converged after 23 epochs.\n",
      "\n",
      "        -------------------------\n",
      "        ||||| ROUND 6 STATS |||||:\n",
      "        -------------------------\n",
      "        Epochs trained: 23\n",
      "        Best validation performance: -2.7507\n",
      "        -------------------------\n",
      "        \n"
     ]
    },
    {
     "name": "stderr",
     "output_type": "stream",
     "text": [
      "  0%|          | 0/125000 [00:00<?, ?it/s]"
     ]
    },
    {
     "name": "stdout",
     "output_type": "stream",
     "text": [
      "Generating MCMC samples\n"
     ]
    },
    {
     "name": "stderr",
     "output_type": "stream",
     "text": [
      "100%|██████████| 125000/125000 [07:55<00:00, 39.97it/s] "
     ]
    },
    {
     "data": {
      "application/vnd.jupyter.widget-view+json": {
       "model_id": "66c4d26ecb94454ebc79932e52625393",
       "version_major": 2,
       "version_minor": 0
      },
      "text/plain": [
       "Running 10000 simulations.:   0%|          | 0/10000 [00:00<?, ?it/s]"
      ]
     },
     "metadata": {},
     "output_type": "display_data"
    },
    {
     "name": "stderr",
     "output_type": "stream",
     "text": [
      "100%|██████████| 125000/125000 [07:55<00:00, 262.67it/s]\n"
     ]
    },
    {
     "name": "stdout",
     "output_type": "stream",
     "text": [
      "Neural network successfully converged after 25 epochs.\n",
      "\n",
      "        -------------------------\n",
      "        ||||| ROUND 7 STATS |||||:\n",
      "        -------------------------\n",
      "        Epochs trained: 25\n",
      "        Best validation performance: -2.7213\n",
      "        -------------------------\n",
      "        \n"
     ]
    },
    {
     "name": "stderr",
     "output_type": "stream",
     "text": [
      "  0%|          | 0/125000 [00:00<?, ?it/s]"
     ]
    },
    {
     "name": "stdout",
     "output_type": "stream",
     "text": [
      "Generating MCMC samples\n"
     ]
    },
    {
     "name": "stderr",
     "output_type": "stream",
     "text": [
      "100%|██████████| 125000/125000 [07:59<00:00, 16.51it/s] "
     ]
    },
    {
     "data": {
      "application/vnd.jupyter.widget-view+json": {
       "model_id": "814beb0230934def966e12866bee7503",
       "version_major": 2,
       "version_minor": 0
      },
      "text/plain": [
       "Running 10000 simulations.:   0%|          | 0/10000 [00:00<?, ?it/s]"
      ]
     },
     "metadata": {},
     "output_type": "display_data"
    },
    {
     "name": "stderr",
     "output_type": "stream",
     "text": [
      "100%|██████████| 125000/125000 [07:59<00:00, 260.62it/s]\n"
     ]
    },
    {
     "name": "stdout",
     "output_type": "stream",
     "text": [
      "Neural network successfully converged after 67 epochs.\n",
      "\n",
      "        -------------------------\n",
      "        ||||| ROUND 8 STATS |||||:\n",
      "        -------------------------\n",
      "        Epochs trained: 67\n",
      "        Best validation performance: -2.6958\n",
      "        -------------------------\n",
      "        \n"
     ]
    },
    {
     "name": "stderr",
     "output_type": "stream",
     "text": [
      "  0%|          | 0/125000 [00:00<?, ?it/s]"
     ]
    },
    {
     "name": "stdout",
     "output_type": "stream",
     "text": [
      "Generating MCMC samples\n"
     ]
    },
    {
     "name": "stderr",
     "output_type": "stream",
     "text": [
      "100%|██████████| 125000/125000 [08:13<00:00, 40.06it/s] "
     ]
    },
    {
     "data": {
      "application/vnd.jupyter.widget-view+json": {
       "model_id": "5108b01dd3444cac8a77fab262468434",
       "version_major": 2,
       "version_minor": 0
      },
      "text/plain": [
       "Running 10000 simulations.:   0%|          | 0/10000 [00:00<?, ?it/s]"
      ]
     },
     "metadata": {},
     "output_type": "display_data"
    },
    {
     "name": "stderr",
     "output_type": "stream",
     "text": [
      "100%|██████████| 125000/125000 [08:13<00:00, 253.28it/s]\n"
     ]
    },
    {
     "name": "stdout",
     "output_type": "stream",
     "text": [
      "Neural network successfully converged after 24 epochs.\n",
      "\n",
      "        -------------------------\n",
      "        ||||| ROUND 9 STATS |||||:\n",
      "        -------------------------\n",
      "        Epochs trained: 24\n",
      "        Best validation performance: -2.7138\n",
      "        -------------------------\n",
      "        \n"
     ]
    },
    {
     "name": "stderr",
     "output_type": "stream",
     "text": [
      "  0%|          | 0/125000 [00:00<?, ?it/s]"
     ]
    },
    {
     "name": "stdout",
     "output_type": "stream",
     "text": [
      "Generating MCMC samples\n"
     ]
    },
    {
     "name": "stderr",
     "output_type": "stream",
     "text": [
      "100%|██████████| 125000/125000 [08:55<00:00, 55.35it/s] "
     ]
    },
    {
     "data": {
      "application/vnd.jupyter.widget-view+json": {
       "model_id": "70731902ce0e4b23b60d3e852230b74d",
       "version_major": 2,
       "version_minor": 0
      },
      "text/plain": [
       "Running 10000 simulations.:   0%|          | 0/10000 [00:00<?, ?it/s]"
      ]
     },
     "metadata": {},
     "output_type": "display_data"
    },
    {
     "name": "stderr",
     "output_type": "stream",
     "text": [
      "100%|██████████| 125000/125000 [08:56<00:00, 233.20it/s]\n"
     ]
    },
    {
     "name": "stdout",
     "output_type": "stream",
     "text": [
      "Neural network successfully converged after 24 epochs.\n",
      "\n",
      "        -------------------------\n",
      "        ||||| ROUND 10 STATS |||||:\n",
      "        -------------------------\n",
      "        Epochs trained: 24\n",
      "        Best validation performance: -2.6834\n",
      "        -------------------------\n",
      "        \n"
     ]
    },
    {
     "name": "stderr",
     "output_type": "stream",
     "text": [
      "  0%|          | 0/55000 [00:00<?, ?it/s]"
     ]
    },
    {
     "name": "stdout",
     "output_type": "stream",
     "text": [
      "Generating MCMC samples\n"
     ]
    },
    {
     "name": "stderr",
     "output_type": "stream",
     "text": [
      "100%|██████████| 55000/55000 [03:37<00:00, 103.55it/s]"
     ]
    },
    {
     "name": "stdout",
     "output_type": "stream",
     "text": [
      "Elapsed time: 6630.660444736481\n"
     ]
    }
   ],
   "source": [
    "results = run_snle(task_names[i], i)"
   ]
  },
  {
   "cell_type": "code",
   "execution_count": 6,
   "id": "059f5131-8323-4164-a586-e468f5a5b0e7",
   "metadata": {},
   "outputs": [],
   "source": [
    "if os.path.isfile(results_path):\n",
    "    mode = \"a\"\n",
    "else:\n",
    "    mode = \"w+\"\n",
    "\n",
    "with open(results_path, mode, newline='') as f:\n",
    "    writer = csv.writer(f, quoting=csv.QUOTE_ALL)\n",
    "    writer.writerow(results.values())\n"
   ]
  },
  {
   "cell_type": "markdown",
   "id": "8d073a74",
   "metadata": {},
   "source": [
    "## Reprex"
   ]
  },
  {
   "cell_type": "code",
   "execution_count": 7,
   "id": "f6f88da0",
   "metadata": {},
   "outputs": [
    {
     "name": "stderr",
     "output_type": "stream",
     "text": [
      "100%|██████████| 55000/55000 [03:48<00:00, 103.55it/s]"
     ]
    }
   ],
   "source": [
    "#import sbibm\n",
    "#from sbibm.algorithms import snle\n",
    "#\n",
    "#task = sbibm.get_task(\"gaussian_linear_uniform\")    \n",
    "#posterior_samples, _, _ = snle(task=task, num_samples=100, num_observation=1, num_simulations=1000)"
   ]
  }
 ],
 "metadata": {
  "kernelspec": {
   "display_name": "Python 3",
   "language": "python",
   "name": "python3"
  },
  "language_info": {
   "codemirror_mode": {
    "name": "ipython",
    "version": 3
   },
   "file_extension": ".py",
   "mimetype": "text/x-python",
   "name": "python",
   "nbconvert_exporter": "python",
   "pygments_lexer": "ipython3",
   "version": "3.9.4"
  }
 },
 "nbformat": 4,
 "nbformat_minor": 5
}
