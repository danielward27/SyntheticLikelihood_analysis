{
 "cells": [
  {
   "cell_type": "markdown",
   "id": "bdc456c3-26e6-4bd0-8ef0-8236f9da3cf5",
   "metadata": {},
   "source": [
    "### Run times\n",
    "We can use a simple multivariate normal example to compare the run times for different dimension summary statistics and different dimension of parameters, because the run time of the simulator is negligable."
   ]
  },
  {
   "cell_type": "markdown",
   "id": "a17e8356-2f15-4fbb-8075-bc3ae981f0fb",
   "metadata": {},
   "source": [
    "## Imports"
   ]
  },
  {
   "cell_type": "code",
   "execution_count": 183,
   "id": "3bf44f90-a368-4572-a8c9-1ec12b02541e",
   "metadata": {},
   "outputs": [],
   "source": [
    "using Pkg\n",
    "using SyntheticLikelihood\n",
    "using Distributions\n",
    "using BenchmarkTools\n",
    "using DataFrames\n",
    "using CSV"
   ]
  },
  {
   "cell_type": "markdown",
   "id": "f0957c6f-b577-417a-b6a7-1a7489cf83ff",
   "metadata": {},
   "source": [
    "## How it scales with summary statistics\n",
    "Keeping the parameters 10 dimensional, we can draw more random samples to get more summary statistics."
   ]
  },
  {
   "cell_type": "code",
   "execution_count": 184,
   "id": "8b056e2c-3012-4eaa-933c-45a622e8a47d",
   "metadata": {},
   "outputs": [],
   "source": [
    "d = 10\n",
    "prior = Prior(fill(Uniform(-1,1), d))\n",
    "draws = [1, 2, 3, 4, 5];"
   ]
  },
  {
   "cell_type": "markdown",
   "id": "d27454c2-29da-40cf-9817-b8a2e3450d87",
   "metadata": {},
   "source": [
    "### Loop through and get results"
   ]
  },
  {
   "cell_type": "code",
   "execution_count": 141,
   "id": "0bc6a7f6-bd30-46c0-8fdd-f079fbfb1cdf",
   "metadata": {},
   "outputs": [
    {
     "name": "stderr",
     "output_type": "stream",
     "text": [
      "\u001b[32mProgress: 100%|█████████████████████████████████████████| Time: 0:00:00\u001b[39m\n",
      "\u001b[32mProgress: 100%|█████████████████████████████████████████| Time: 0:00:00\u001b[39m\n",
      "\u001b[32mProgress: 100%|█████████████████████████████████████████| Time: 0:00:11\u001b[39m\n",
      "\u001b[32mProgress: 100%|█████████████████████████████████████████| Time: 0:00:10\u001b[39m\n",
      "\u001b[32mProgress: 100%|█████████████████████████████████████████| Time: 0:00:10\u001b[39m\n",
      "\u001b[32mProgress: 100%|█████████████████████████████████████████| Time: 0:00:02\u001b[39m\n",
      "\u001b[32mProgress: 100%|█████████████████████████████████████████| Time: 0:00:02\u001b[39m\n",
      "\u001b[32mProgress: 100%|█████████████████████████████████████████| Time: 0:00:01\u001b[39m\n",
      "\u001b[32mProgress: 100%|█████████████████████████████████████████| Time: 0:00:00\u001b[39m\n",
      "\u001b[32mProgress: 100%|█████████████████████████████████████████| Time: 0:00:23\u001b[39m\n",
      "\u001b[32mProgress: 100%|█████████████████████████████████████████| Time: 0:00:19\u001b[39m\n",
      "\u001b[32mProgress: 100%|█████████████████████████████████████████| Time: 0:00:20\u001b[39m\n",
      "\u001b[32mProgress: 100%|█████████████████████████████████████████| Time: 0:00:03\u001b[39m\n",
      "\u001b[32mProgress: 100%|█████████████████████████████████████████| Time: 0:00:00\u001b[39m\n",
      "\u001b[32mProgress: 100%|█████████████████████████████████████████| Time: 0:00:27\u001b[39m\n",
      "\u001b[32mProgress: 100%|█████████████████████████████████████████| Time: 0:00:28\u001b[39m\n",
      "\u001b[32mProgress: 100%|█████████████████████████████████████████| Time: 0:00:31\u001b[39m\n",
      "\u001b[32mProgress: 100%|█████████████████████████████████████████| Time: 0:00:05\u001b[39m\n",
      "\u001b[32mProgress: 100%|█████████████████████████████████████████| Time: 0:00:03\u001b[39m\n",
      "\u001b[32mProgress: 100%|█████████████████████████████████████████| Time: 0:00:00\u001b[39m\n",
      "\u001b[32mProgress: 100%|█████████████████████████████████████████| Time: 0:00:31\u001b[39m\n",
      "\u001b[32mProgress: 100%|█████████████████████████████████████████| Time: 0:00:33\u001b[39m\n",
      "\u001b[32mProgress: 100%|█████████████████████████████████████████| Time: 0:00:37\u001b[39m\n",
      "\u001b[32mProgress: 100%|█████████████████████████████████████████| Time: 0:00:07\u001b[39m\n",
      "\u001b[32mProgress: 100%|█████████████████████████████████████████| Time: 0:00:09\u001b[39m\n",
      "\u001b[32mProgress: 100%|█████████████████████████████████████████| Time: 0:00:04\u001b[39m\n",
      "\u001b[32mProgress: 100%|█████████████████████████████████████████| Time: 0:00:01\u001b[39m\n",
      "\u001b[32mProgress: 100%|█████████████████████████████████████████| Time: 0:00:00\u001b[39m\n",
      "\u001b[32mProgress: 100%|█████████████████████████████████████████| Time: 0:00:39\u001b[39m\n",
      "\u001b[32mProgress: 100%|█████████████████████████████████████████| Time: 0:00:40\u001b[39m\n",
      "\u001b[32mProgress: 100%|█████████████████████████████████████████| Time: 0:00:38\u001b[39m\n",
      "\u001b[32mProgress: 100%|█████████████████████████████████████████| Time: 0:00:09\u001b[39m\n",
      "\u001b[32mProgress: 100%|█████████████████████████████████████████| Time: 0:00:06\u001b[39m\n"
     ]
    }
   ],
   "source": [
    "n_sum_stats = []\n",
    "rula_times = []\n",
    "rwm_times = []\n",
    "\n",
    "for n_draws in draws\n",
    "    \n",
    "    # Define the simulator\n",
    "    function simulator(θ::Vector{Float64})\n",
    "        @assert length(θ) == 10\n",
    "        d = MvNormal(θ, sqrt(0.1))\n",
    "        s = rand(d, n_draws)\n",
    "        reshape(s, length(s))\n",
    "    end\n",
    "    \n",
    "    θ_true = sample_θ(prior)\n",
    "    s_true = simulator(θ_true)\n",
    "    \n",
    "    local_posterior = LocalPosterior(;\n",
    "      simulator,\n",
    "      s_true,\n",
    "      n_sim = 1000,\n",
    "      prior,\n",
    "    )\n",
    "    \n",
    "    rula = RiemannianULA(0.5)\n",
    "    rwm = RWMetropolis(MvNormal(fill(sqrt(0.1), d)))\n",
    "    \n",
    "    # Warm up samplers so compiled\n",
    "    run_sampler!(rula, local_posterior; init_θ = θ_true, n_steps = 3)  \n",
    "    run_sampler!(rwm, local_posterior; init_θ = θ_true, n_steps = 3)  \n",
    "    \n",
    "    append!(n_sum_stats, d*n_draws)\n",
    "    append!(rula_times, mean([@elapsed run_sampler!(rula, local_posterior; init_θ = θ_true, n_steps = 100) for rep in 1:3]))\n",
    "    append!(rwm_times, mean([@elapsed run_sampler!(rwm, local_posterior; init_θ = θ_true, n_steps = 100) for rep in 1:3]))\n",
    "end"
   ]
  },
  {
   "cell_type": "code",
   "execution_count": 148,
   "id": "f04dc79d-d8ac-4dda-8f2f-526bd7781e1a",
   "metadata": {},
   "outputs": [
    {
     "data": {
      "text/html": [
       "<table class=\"data-frame\"><thead><tr><th></th><th>n_sum_stats</th><th>rula_time_per_step</th><th>rwm_time_per_step</th></tr><tr><th></th><th>Any</th><th>Float64</th><th>Float64</th></tr></thead><tbody><p>5 rows × 3 columns</p><tr><th>1</th><td>10</td><td>0.110204</td><td>0.0207672</td></tr><tr><th>2</th><td>20</td><td>0.211249</td><td>0.0288501</td></tr><tr><th>3</th><td>30</td><td>0.294244</td><td>0.0419803</td></tr><tr><th>4</th><td>40</td><td>0.343957</td><td>0.075929</td></tr><tr><th>5</th><td>50</td><td>0.398944</td><td>0.0812874</td></tr></tbody></table>"
      ],
      "text/latex": [
       "\\begin{tabular}{r|ccc}\n",
       "\t& n\\_sum\\_stats & rula\\_time\\_per\\_step & rwm\\_time\\_per\\_step\\\\\n",
       "\t\\hline\n",
       "\t& Any & Float64 & Float64\\\\\n",
       "\t\\hline\n",
       "\t1 & 10 & 0.110204 & 0.0207672 \\\\\n",
       "\t2 & 20 & 0.211249 & 0.0288501 \\\\\n",
       "\t3 & 30 & 0.294244 & 0.0419803 \\\\\n",
       "\t4 & 40 & 0.343957 & 0.075929 \\\\\n",
       "\t5 & 50 & 0.398944 & 0.0812874 \\\\\n",
       "\\end{tabular}\n"
      ],
      "text/plain": [
       "\u001b[1m5×3 DataFrame\u001b[0m\n",
       "\u001b[1m Row \u001b[0m│\u001b[1m n_sum_stats \u001b[0m\u001b[1m rula_time_per_step \u001b[0m\u001b[1m rwm_time_per_step \u001b[0m\n",
       "\u001b[1m     \u001b[0m│\u001b[90m Any         \u001b[0m\u001b[90m Float64            \u001b[0m\u001b[90m Float64           \u001b[0m\n",
       "─────┼────────────────────────────────────────────────────\n",
       "   1 │ 10                     0.110204          0.0207672\n",
       "   2 │ 20                     0.211249          0.0288501\n",
       "   3 │ 30                     0.294244          0.0419803\n",
       "   4 │ 40                     0.343957          0.075929\n",
       "   5 │ 50                     0.398944          0.0812874"
      ]
     },
     "execution_count": 148,
     "metadata": {},
     "output_type": "execute_result"
    }
   ],
   "source": [
    "sum_stat_times_df = DataFrame(n_sum_stats=n_sum_stats, rula_time_per_step = rula_times./100, rwm_time_per_step=rwm_times./100)"
   ]
  },
  {
   "cell_type": "code",
   "execution_count": 151,
   "id": "73d1b98c-dacf-4939-ba4d-c41d74e5ebf8",
   "metadata": {},
   "outputs": [
    {
     "data": {
      "text/plain": [
       "\"results/mvn_times_sum_stats.csv\""
      ]
     },
     "execution_count": 151,
     "metadata": {},
     "output_type": "execute_result"
    }
   ],
   "source": [
    "CSV.write(\"results/mvn_times_sum_stats.csv\", sum_stat_times_df)"
   ]
  },
  {
   "cell_type": "markdown",
   "id": "55dd352e-9bae-42d4-bdfb-9e5079ee4588",
   "metadata": {},
   "source": [
    "## Scaling with the number of parameters"
   ]
  },
  {
   "cell_type": "code",
   "execution_count": 185,
   "id": "7518e34d-f2c6-4e8b-b2e5-42fc1dc6da63",
   "metadata": {},
   "outputs": [],
   "source": [
    "ns = 10\n",
    "dimensions = [10, 20, 30, 40, 50];"
   ]
  },
  {
   "cell_type": "code",
   "execution_count": 186,
   "id": "62ecd69d-90cf-4c17-bf14-bd5fb4731071",
   "metadata": {},
   "outputs": [
    {
     "data": {
      "text/plain": [
       "chunkify (generic function with 1 method)"
      ]
     },
     "execution_count": 186,
     "metadata": {},
     "output_type": "execute_result"
    }
   ],
   "source": [
    "function chunkify(A, n)\n",
    "    [A[i:min(i + n - 1, end)] for i in 1:n:length(A)]\n",
    "end"
   ]
  },
  {
   "cell_type": "code",
   "execution_count": null,
   "id": "7b698895-993d-423c-a2ea-81bdbfe0ddcc",
   "metadata": {},
   "outputs": [
    {
     "name": "stderr",
     "output_type": "stream",
     "text": [
      "\u001b[32mProgress: 100%|█████████████████████████████████████████| Time: 0:00:00\u001b[39m\n",
      "\u001b[32mProgress: 100%|█████████████████████████████████████████| Time: 0:00:00\u001b[39m\n",
      "\u001b[32mProgress: 100%|█████████████████████████████████████████| Time: 0:00:11\u001b[39m\n",
      "\u001b[32mProgress: 100%|█████████████████████████████████████████| Time: 0:00:09\u001b[39m\n",
      "\u001b[32mProgress: 100%|█████████████████████████████████████████| Time: 0:00:09\u001b[39m\n",
      "\u001b[32mProgress: 100%|█████████████████████████████████████████| Time: 0:00:06\u001b[39m\n",
      "\u001b[32mProgress: 100%|█████████████████████████████████████████| Time: 0:00:06\u001b[39m\n",
      "\u001b[32mProgress: 100%|█████████████████████████████████████████| Time: 0:00:06\u001b[39m\n",
      "\u001b[32mProgress: 100%|█████████████████████████████████████████| Time: 0:00:01\u001b[39m\n",
      "\u001b[32mProgress: 100%|█████████████████████████████████████████| Time: 0:00:00\u001b[39m\n",
      "\u001b[32mProgress: 100%|█████████████████████████████████████████| Time: 0:00:40\u001b[39m\n",
      "\u001b[32mProgress: 100%|█████████████████████████████████████████| Time: 0:00:36\u001b[39m\n",
      "\u001b[32mProgress: 100%|█████████████████████████████████████████| Time: 0:01:06\u001b[39m\n",
      "\u001b[32mProgress: 100%|█████████████████████████████████████████| Time: 0:00:39\u001b[39m\n",
      "\u001b[32mProgress: 100%|█████████████████████████████████████████| Time: 0:00:33\u001b[39m\n",
      "\u001b[32mProgress: 100%|█████████████████████████████████████████| Time: 0:00:20\u001b[39m\n",
      "\u001b[32mProgress: 100%|█████████████████████████████████████████| Time: 0:00:02\u001b[39m\n",
      "\u001b[32mProgress: 100%|█████████████████████████████████████████| Time: 0:00:02\u001b[39m\n",
      "\u001b[32mProgress: 100%|█████████████████████████████████████████| Time: 0:02:04\u001b[39m\n",
      "\u001b[32mProgress:  38%|███████████████▋                         |  ETA: 0:00:58\u001b[39m"
     ]
    }
   ],
   "source": [
    "n_parameters = []\n",
    "rula_times = []\n",
    "rwm_times = []\n",
    "\n",
    "for nθ in dimensions\n",
    "    \n",
    "    prior = Prior(fill(Uniform(-10,10), nθ))\n",
    "    \n",
    "    # Define the simulator\n",
    "    function simulator(θ::Vector{Float64})\n",
    "        @assert length(θ) == nθ\n",
    "        d = MvNormal(θ, sqrt(0.1))\n",
    "        s = rand(d)\n",
    "        \n",
    "        s_chunks = chunkify(s, Int(nθ/10))\n",
    "        s = mean.(s_chunks)\n",
    "        s\n",
    "    end\n",
    "    \n",
    "    θ_true = sample_θ(prior)\n",
    "    s_true = simulator(θ_true)\n",
    "    \n",
    "    local_posterior = LocalPosterior(;\n",
    "      simulator,\n",
    "      s_true,\n",
    "      n_sim = 1000,\n",
    "      prior,\n",
    "    )\n",
    "    \n",
    "    rula = RiemannianULA(0.5)\n",
    "    rwm = RWMetropolis(MvNormal(fill(sqrt(0.1), nθ)))\n",
    "    \n",
    "    # Warm up samplers so compiled\n",
    "    run_sampler!(rula, local_posterior; init_θ = θ_true, n_steps = 3)  \n",
    "    run_sampler!(rwm, local_posterior; init_θ = θ_true, n_steps = 3)  \n",
    "    \n",
    "    append!(n_parameters, nθ)\n",
    "    append!(rula_times, mean([@elapsed run_sampler!(rula, local_posterior; init_θ = θ_true, n_steps = 100) for rep in 1:3]))\n",
    "    append!(rwm_times, mean([@elapsed run_sampler!(rwm, local_posterior; init_θ = θ_true, n_steps = 100) for rep in 1:3]))\n",
    "end"
   ]
  },
  {
   "cell_type": "code",
   "execution_count": 135,
   "id": "54c01c2b-faaa-4e42-8a4e-f8e2ef6e8e3d",
   "metadata": {},
   "outputs": [
    {
     "name": "stdout",
     "output_type": "stream",
     "text": [
      "hihihi"
     ]
    },
    {
     "data": {
      "text/plain": [
       "3-element Vector{Float64}:\n",
       " 6.3067e-5\n",
       " 1.407e-5\n",
       " 6.846e-6"
      ]
     },
     "execution_count": 135,
     "metadata": {},
     "output_type": "execute_result"
    }
   ],
   "source": [
    "\\theta_times_df = DataFrame(n_parameters=n_parameters, rula_time_per_step = rula_times./100, rwm_time_per_step=rwm_times./100)"
   ]
  },
  {
   "cell_type": "code",
   "execution_count": null,
   "id": "8cd0236e-5d9f-4086-a20f-6c9bac285b5d",
   "metadata": {},
   "outputs": [],
   "source": [
    "CSV.write(\"results/mvn_times_parameters.csv\", \\theta_times_df)"
   ]
  },
  {
   "cell_type": "code",
   "execution_count": 132,
   "id": "f88d7afe-ef91-43c3-9d52-79ae7512b1c9",
   "metadata": {},
   "outputs": [
    {
     "data": {
      "text/plain": [
       "3-element Vector{Float64}:\n",
       " 0.000167126\n",
       " 1.5863e-5\n",
       " 9.571e-6"
      ]
     },
     "execution_count": 132,
     "metadata": {},
     "output_type": "execute_result"
    }
   ],
   "source": [
    "times"
   ]
  },
  {
   "cell_type": "code",
   "execution_count": 127,
   "id": "ba032b0c-35a5-4d9f-ada6-c845afccf103",
   "metadata": {},
   "outputs": [
    {
     "data": {
      "text/plain": [
       "simulator (generic function with 1 method)"
      ]
     },
     "execution_count": 127,
     "metadata": {},
     "output_type": "execute_result"
    }
   ],
   "source": [
    "i = 1\n",
    "\n",
    "# Define the simulator\n",
    "function simulator(θ::Vector{Float64})\n",
    "    @assert length(θ) == 10\n",
    "    d = MvNormal(θ, sqrt(0.1))\n",
    "    s = rand(d, draws[i])\n",
    "    reshape(s, length(s))\n",
    "end"
   ]
  },
  {
   "cell_type": "code",
   "execution_count": 128,
   "id": "978e143b-d7f4-4293-ad32-d73a142df219",
   "metadata": {},
   "outputs": [],
   "source": [
    "θ_true = sample_θ(prior)\n",
    "s_true = simulator(θ_true);"
   ]
  },
  {
   "cell_type": "code",
   "execution_count": 120,
   "id": "6de7778f-a6cb-4dd7-bb00-bb9a860ab361",
   "metadata": {},
   "outputs": [
    {
     "data": {
      "text/plain": [
       "ZeroMeanDiagNormal(\n",
       "dim: 10\n",
       "μ: 10-element Zeros{Float64}\n",
       "Σ: [0.1 0.0 … 0.0 0.0; 0.0 0.1 … 0.0 0.0; … ; 0.0 0.0 … 0.1 0.0; 0.0 0.0 … 0.0 0.1]\n",
       ")\n"
      ]
     },
     "execution_count": 120,
     "metadata": {},
     "output_type": "execute_result"
    }
   ],
   "source": []
  },
  {
   "cell_type": "code",
   "execution_count": 122,
   "id": "cef9ed18-e104-4b3f-b97c-6b159de59c4e",
   "metadata": {},
   "outputs": [
    {
     "data": {
      "text/plain": [
       "RWMetropolis(ZeroMeanDiagNormal(\n",
       "dim: 10\n",
       "μ: 10-element Zeros{Float64}\n",
       "Σ: [0.1 0.0 … 0.0 0.0; 0.0 0.1 … 0.0 0.0; … ; 0.0 0.0 … 0.1 0.0; 0.0 0.0 … 0.0 0.1]\n",
       ")\n",
       ")"
      ]
     },
     "execution_count": 122,
     "metadata": {},
     "output_type": "execute_result"
    }
   ],
   "source": [
    "local_posterior = LocalPosterior(;\n",
    "  simulator,\n",
    "  s_true,\n",
    "  n_sim = 1000,\n",
    "  prior,\n",
    ")\n",
    "\n",
    "rula = RiemannianULA(0.5)\n",
    "rwm = RWMetropolis(MvNormal(fill(sqrt(0.1), d)))"
   ]
  },
  {
   "cell_type": "code",
   "execution_count": 115,
   "id": "a2c3c164-1943-4286-8aa4-a077785db5c1",
   "metadata": {},
   "outputs": [
    {
     "data": {
      "text/html": [
       "<table class=\"data-frame\"><thead><tr><th></th><th>n_sum_stats</th><th>run_time_1</th><th>run_time_2</th><th>run_time_3</th></tr><tr><th></th><th>Int64</th><th>Float64</th><th>Float64</th><th>Float64</th></tr></thead><tbody><p>0 rows × 4 columns</p></tbody></table>"
      ],
      "text/latex": [
       "\\begin{tabular}{r|cccc}\n",
       "\t& n\\_sum\\_stats & run\\_time\\_1 & run\\_time\\_2 & run\\_time\\_3\\\\\n",
       "\t\\hline\n",
       "\t& Int64 & Float64 & Float64 & Float64\\\\\n",
       "\t\\hline\n",
       "\\end{tabular}\n"
      ],
      "text/plain": [
       "\u001b[1m0×4 DataFrame\u001b[0m"
      ]
     },
     "execution_count": 115,
     "metadata": {},
     "output_type": "execute_result"
    }
   ],
   "source": [
    "df=DataFrame(n_sum_stats=Int64[], run_time_1=Float64[], run_time_2=Float64[], run_time_3=Float64[])"
   ]
  },
  {
   "cell_type": "code",
   "execution_count": 116,
   "id": "3f061763-d66e-485a-b5f9-fe82163ee174",
   "metadata": {},
   "outputs": [
    {
     "name": "stderr",
     "output_type": "stream",
     "text": [
      "\u001b[32mProgress: 100%|█████████████████████████████████████████| Time: 0:00:00\u001b[39m\n",
      "\u001b[32mProgress: 100%|█████████████████████████████████████████| Time: 0:00:21\u001b[39m\n",
      "\u001b[32mProgress: 100%|█████████████████████████████████████████| Time: 0:00:23\u001b[39m\n",
      "\u001b[32mProgress: 100%|█████████████████████████████████████████| Time: 0:00:39\u001b[39m\n"
     ]
    }
   ],
   "source": [
    "algorithm_vec = []\n",
    "n_sum_stats_vec = []\n",
    "time1_vec = []\n",
    "time2_vec = []\n",
    "time3_vec = []\n",
    "\n",
    "# Warm up so compiled\n",
    "run_sampler!(rula, local_posterior; init_θ = θ_true, n_steps = 3)  \n",
    "run_sampler!(rula, local_posterior; init_θ = θ_true, n_steps = 3)  \n",
    "\n",
    "\n",
    "\n",
    "rw\n",
    "\n",
    "\n",
    "\n",
    "\n",
    "\n"
   ]
  },
  {
   "cell_type": "code",
   "execution_count": 117,
   "id": "93c19cd4-9917-495d-995a-bebec2bbabf2",
   "metadata": {},
   "outputs": [
    {
     "data": {
      "text/plain": [
       "3-element Vector{Float64}:\n",
       " 21.338254157\n",
       " 23.759563216\n",
       " 39.360748144"
      ]
     },
     "execution_count": 117,
     "metadata": {},
     "output_type": "execute_result"
    }
   ],
   "source": [
    "row = Vector{Any}(undef, 4)\n",
    "row[1] = d*draws[i, ]\n",
    "row[2:end] = times"
   ]
  },
  {
   "cell_type": "code",
   "execution_count": 114,
   "id": "97f89c30-09c1-4d17-9ec3-800d5ca16865",
   "metadata": {},
   "outputs": [
    {
     "data": {
      "text/html": [
       "<table class=\"data-frame\"><thead><tr><th></th><th>n_sum_stats</th><th>run_time_1</th><th>run_time_2</th><th>run_time_3</th></tr><tr><th></th><th>Float64</th><th>Float64</th><th>Float64</th><th>Float64</th></tr></thead><tbody><p>3 rows × 4 columns</p><tr><th>1</th><td>20.0</td><td>19.8031</td><td>21.1352</td><td>29.4328</td></tr><tr><th>2</th><td>20.0</td><td>19.8031</td><td>21.1352</td><td>29.4328</td></tr><tr><th>3</th><td>20.0</td><td>19.8031</td><td>21.1352</td><td>29.4328</td></tr></tbody></table>"
      ],
      "text/latex": [
       "\\begin{tabular}{r|cccc}\n",
       "\t& n\\_sum\\_stats & run\\_time\\_1 & run\\_time\\_2 & run\\_time\\_3\\\\\n",
       "\t\\hline\n",
       "\t& Float64 & Float64 & Float64 & Float64\\\\\n",
       "\t\\hline\n",
       "\t1 & 20.0 & 19.8031 & 21.1352 & 29.4328 \\\\\n",
       "\t2 & 20.0 & 19.8031 & 21.1352 & 29.4328 \\\\\n",
       "\t3 & 20.0 & 19.8031 & 21.1352 & 29.4328 \\\\\n",
       "\\end{tabular}\n"
      ],
      "text/plain": [
       "\u001b[1m3×4 DataFrame\u001b[0m\n",
       "\u001b[1m Row \u001b[0m│\u001b[1m n_sum_stats \u001b[0m\u001b[1m run_time_1 \u001b[0m\u001b[1m run_time_2 \u001b[0m\u001b[1m run_time_3 \u001b[0m\n",
       "\u001b[1m     \u001b[0m│\u001b[90m Float64     \u001b[0m\u001b[90m Float64    \u001b[0m\u001b[90m Float64    \u001b[0m\u001b[90m Float64    \u001b[0m\n",
       "─────┼─────────────────────────────────────────────────\n",
       "   1 │        20.0     19.8031     21.1352     29.4328\n",
       "   2 │        20.0     19.8031     21.1352     29.4328\n",
       "   3 │        20.0     19.8031     21.1352     29.4328"
      ]
     },
     "execution_count": 114,
     "metadata": {},
     "output_type": "execute_result"
    }
   ],
   "source": [
    "push!(df, row)"
   ]
  },
  {
   "cell_type": "code",
   "execution_count": 107,
   "id": "ddf10214-a2cd-4c56-821a-b43e5d1d3b28",
   "metadata": {},
   "outputs": [
    {
     "data": {
      "text/html": [
       "<table class=\"data-frame\"><thead><tr><th></th><th>n_sum_stats</th><th>run_time_1</th><th>run_time_2</th><th>run_time_3</th></tr><tr><th></th><th>Float64</th><th>Float64</th><th>Float64</th><th>Float64</th></tr></thead><tbody><p>2 rows × 4 columns</p><tr><th>1</th><td>20.0</td><td>19.8031</td><td>21.1352</td><td>29.4328</td></tr><tr><th>2</th><td>20.0</td><td>19.8031</td><td>21.1352</td><td>29.4328</td></tr></tbody></table>"
      ],
      "text/latex": [
       "\\begin{tabular}{r|cccc}\n",
       "\t& n\\_sum\\_stats & run\\_time\\_1 & run\\_time\\_2 & run\\_time\\_3\\\\\n",
       "\t\\hline\n",
       "\t& Float64 & Float64 & Float64 & Float64\\\\\n",
       "\t\\hline\n",
       "\t1 & 20.0 & 19.8031 & 21.1352 & 29.4328 \\\\\n",
       "\t2 & 20.0 & 19.8031 & 21.1352 & 29.4328 \\\\\n",
       "\\end{tabular}\n"
      ],
      "text/plain": [
       "\u001b[1m2×4 DataFrame\u001b[0m\n",
       "\u001b[1m Row \u001b[0m│\u001b[1m n_sum_stats \u001b[0m\u001b[1m run_time_1 \u001b[0m\u001b[1m run_time_2 \u001b[0m\u001b[1m run_time_3 \u001b[0m\n",
       "\u001b[1m     \u001b[0m│\u001b[90m Float64     \u001b[0m\u001b[90m Float64    \u001b[0m\u001b[90m Float64    \u001b[0m\u001b[90m Float64    \u001b[0m\n",
       "─────┼─────────────────────────────────────────────────\n",
       "   1 │        20.0     19.8031     21.1352     29.4328\n",
       "   2 │        20.0     19.8031     21.1352     29.4328"
      ]
     },
     "execution_count": 107,
     "metadata": {},
     "output_type": "execute_result"
    }
   ],
   "source": []
  },
  {
   "cell_type": "code",
   "execution_count": 85,
   "id": "31bd2491-3438-46fc-8198-508a3377d829",
   "metadata": {},
   "outputs": [
    {
     "data": {
      "text/plain": [
       "(θ = [-0.050002504511072556 0.9882295106274205 … -0.9396610115300205 -0.49289121408859715; -0.13908305240794613 0.9317559328781906 … -0.829215236311722 -0.4672086621144109; … ; 0.24444501229399884 0.8744249744377202 … -0.9408810040197296 -0.22771802058326895; 0.24336333452986636 0.8769332080728481 … -0.9383929962148287 -0.229369730971589], objective = [35.192531680157636, 34.91627781458669, 33.55340946290921, 33.23266330134571, 32.38154132468103, 31.605614147286616, 34.219538245899216, 31.124387181954003, 30.758004486652105, 32.896856300020154  …  34.10196181567498, 32.941465670905146, 33.41648624234117, 32.78893096763223, 32.78026891045159, 31.678169516375725, 33.944654280150324, 33.8346404042269, 31.66689803386377, 33.61944286248465])"
      ]
     },
     "execution_count": 85,
     "metadata": {},
     "output_type": "execute_result"
    }
   ],
   "source": [
    "result"
   ]
  },
  {
   "cell_type": "code",
   "execution_count": 10,
   "id": "d1d22549-c803-4646-8953-82e9c3107ba0",
   "metadata": {},
   "outputs": [
    {
     "ename": "LoadError",
     "evalue": "UndefVarError: pairwise_combinations not defined",
     "output_type": "error",
     "traceback": [
      "UndefVarError: pairwise_combinations not defined",
      "",
      "Stacktrace:",
      " [1] getproperty(x::Module, f::Symbol)",
      "   @ Base ./Base.jl:26",
      " [2] top-level scope",
      "   @ In[10]:1",
      " [3] eval",
      "   @ ./boot.jl:360 [inlined]",
      " [4] include_string(mapexpr::typeof(REPL.softscope), mod::Module, code::String, filename::String)",
      "   @ Base ./loading.jl:1094"
     ]
    }
   ],
   "source": [
    "\n",
    "i = 1\n",
    "nθ = dims[i][1]\n",
    "ns = dims[i][2]\n",
    "\n",
    "# Define the simulator\n",
    "function simulator(θ::Vector{Float64})\n",
    "  @assert length(θ) == n\n",
    "  d = MvNormal(θ, sqrt(0.1))\n",
    "  rand(d)\n",
    "end\n",
    "\n",
    "\n",
    "\n",
    "θ_true = sample_θ(prior)\n",
    "s_true = simulator(θ_true)\n",
    "\n",
    "local_posterior = LocalPosterior(;\n",
    "  simulator,\n",
    "  s_true,\n",
    "  n_sim = 1000,\n",
    "  prior,\n",
    ")\n",
    "\n",
    "\n",
    "\n"
   ]
  },
  {
   "cell_type": "code",
   "execution_count": 3,
   "id": "fdd9ca42-2cde-49d5-bf8e-6963cea6a514",
   "metadata": {},
   "outputs": [
    {
     "name": "stderr",
     "output_type": "stream",
     "text": [
      "\u001b[32m\u001b[1m    Updating\u001b[22m\u001b[39m git-repo `https://github.com/danielward27/SyntheticLikelihood.jl`\n",
      "\u001b[32m\u001b[1m    Updating\u001b[22m\u001b[39m registry at `~/.julia/registries/General`\n",
      "\u001b[32m\u001b[1m    Updating\u001b[22m\u001b[39m git-repo `https://github.com/JuliaRegistries/General.git`\n",
      "\u001b[32m\u001b[1m   Resolving\u001b[22m\u001b[39m package versions...\n",
      "\u001b[32m\u001b[1m   Installed\u001b[22m\u001b[39m Widgets ─────── v0.6.3\n",
      "\u001b[32m\u001b[1m   Installed\u001b[22m\u001b[39m Grisu ───────── v1.0.2\n",
      "\u001b[32m\u001b[1m   Installed\u001b[22m\u001b[39m Showoff ─────── v1.0.3\n",
      "\u001b[32m\u001b[1m   Installed\u001b[22m\u001b[39m ProgressMeter ─ v1.6.1\n",
      "\u001b[32m\u001b[1m   Installed\u001b[22m\u001b[39m URIs ────────── v1.3.0\n",
      "\u001b[32m\u001b[1m   Installed\u001b[22m\u001b[39m HTTP ────────── v0.9.8\n",
      "\u001b[32m\u001b[1m    Updating\u001b[22m\u001b[39m `~/Documents/compass/mini_project/analysis/sbi_benchmark/Project.toml`\n",
      " \u001b[90m [dd14a069] \u001b[39m\u001b[92m+ SyntheticLikelihood v0.1.0 `https://github.com/danielward27/SyntheticLikelihood.jl#main`\u001b[39m\n",
      "\u001b[32m\u001b[1m    Updating\u001b[22m\u001b[39m `~/Documents/compass/mini_project/analysis/sbi_benchmark/Manifest.toml`\n",
      " \u001b[90m [7d9fca2a] \u001b[39m\u001b[92m+ Arpack v0.4.0\u001b[39m\n",
      " \u001b[90m [aaaa29a8] \u001b[39m\u001b[92m+ Clustering v0.14.2\u001b[39m\n",
      " \u001b[90m [35d6a980] \u001b[39m\u001b[92m+ ColorSchemes v3.12.1\u001b[39m\n",
      " \u001b[90m [3da002f7] \u001b[39m\u001b[92m+ ColorTypes v0.11.0\u001b[39m\n",
      " \u001b[90m [5ae59095] \u001b[39m\u001b[92m+ Colors v0.12.8\u001b[39m\n",
      " \u001b[90m [d38c429a] \u001b[39m\u001b[92m+ Contour v0.5.7\u001b[39m\n",
      " \u001b[90m [e7dc6d0d] \u001b[39m\u001b[92m+ DataValues v0.4.13\u001b[39m\n",
      " \u001b[90m [c87230d0] \u001b[39m\u001b[92m+ FFMPEG v0.4.0\u001b[39m\n",
      " \u001b[90m [53c48c17] \u001b[39m\u001b[92m+ FixedPointNumbers v0.8.4\u001b[39m\n",
      " \u001b[90m [28b8d3ca] \u001b[39m\u001b[92m+ GR v0.57.4\u001b[39m\n",
      " \u001b[90m [5c1252a2] \u001b[39m\u001b[92m+ GeometryBasics v0.3.12\u001b[39m\n",
      " \u001b[90m [42e2da0e] \u001b[39m\u001b[92m+ Grisu v1.0.2\u001b[39m\n",
      " \u001b[90m [cd3eb016] \u001b[39m\u001b[92m+ HTTP v0.9.8\u001b[39m\n",
      " \u001b[90m [83e8ac13] \u001b[39m\u001b[92m+ IniFile v0.5.0\u001b[39m\n",
      " \u001b[90m [c8e1da08] \u001b[39m\u001b[92m+ IterTools v1.3.0\u001b[39m\n",
      " \u001b[90m [442fdcdd] \u001b[39m\u001b[92m+ Measures v0.3.1\u001b[39m\n",
      " \u001b[90m [6f286f6a] \u001b[39m\u001b[92m+ MultivariateStats v0.8.0\u001b[39m\n",
      " \u001b[90m [b8a86587] \u001b[39m\u001b[92m+ NearestNeighbors v0.4.8\u001b[39m\n",
      " \u001b[90m [510215fc] \u001b[39m\u001b[92m+ Observables v0.3.3\u001b[39m\n",
      " \u001b[90m [ccf2f8ad] \u001b[39m\u001b[92m+ PlotThemes v2.0.1\u001b[39m\n",
      " \u001b[90m [995b91a9] \u001b[39m\u001b[92m+ PlotUtils v1.0.10\u001b[39m\n",
      " \u001b[90m [91a5bcdd] \u001b[39m\u001b[92m+ Plots v1.13.2\u001b[39m\n",
      " \u001b[90m [92933f4c] \u001b[39m\u001b[92m+ ProgressMeter v1.6.1\u001b[39m\n",
      " \u001b[90m [01d81517] \u001b[39m\u001b[92m+ RecipesPipeline v0.3.2\u001b[39m\n",
      " \u001b[90m [6c6a2e73] \u001b[39m\u001b[92m+ Scratch v1.0.3\u001b[39m\n",
      " \u001b[90m [992d4aef] \u001b[39m\u001b[92m+ Showoff v1.0.3\u001b[39m\n",
      " \u001b[90m [f3b207a7] \u001b[39m\u001b[92m+ StatsPlots v0.14.20\u001b[39m\n",
      " \u001b[90m [09ab397b] \u001b[39m\u001b[92m+ StructArrays v0.5.1\u001b[39m\n",
      " \u001b[90m [dd14a069] \u001b[39m\u001b[92m+ SyntheticLikelihood v0.1.0 `https://github.com/danielward27/SyntheticLikelihood.jl#main`\u001b[39m\n",
      " \u001b[90m [ab02a1b2] \u001b[39m\u001b[92m+ TableOperations v1.0.0\u001b[39m\n",
      " \u001b[90m [5c2747f8] \u001b[39m\u001b[92m+ URIs v1.3.0\u001b[39m\n",
      " \u001b[90m [cc8bc4a8] \u001b[39m\u001b[92m+ Widgets v0.6.3\u001b[39m\n",
      " \u001b[90m [68821587] \u001b[39m\u001b[92m+ Arpack_jll v3.5.0+3\u001b[39m\n",
      " \u001b[90m [6e34b625] \u001b[39m\u001b[92m+ Bzip2_jll v1.0.6+5\u001b[39m\n",
      " \u001b[90m [83423d85] \u001b[39m\u001b[92m+ Cairo_jll v1.16.0+6\u001b[39m\n",
      " \u001b[90m [5ae413db] \u001b[39m\u001b[92m+ EarCut_jll v2.1.5+1\u001b[39m\n",
      " \u001b[90m [2e619515] \u001b[39m\u001b[92m+ Expat_jll v2.2.7+6\u001b[39m\n",
      " \u001b[90m [b22a6f82] \u001b[39m\u001b[92m+ FFMPEG_jll v4.3.1+4\u001b[39m\n",
      " \u001b[90m [a3f928ae] \u001b[39m\u001b[92m+ Fontconfig_jll v2.13.1+14\u001b[39m\n",
      " \u001b[90m [d7e528f0] \u001b[39m\u001b[92m+ FreeType2_jll v2.10.1+5\u001b[39m\n",
      " \u001b[90m [559328eb] \u001b[39m\u001b[92m+ FriBidi_jll v1.0.5+6\u001b[39m\n",
      " \u001b[90m [0656b61e] \u001b[39m\u001b[92m+ GLFW_jll v3.3.4+0\u001b[39m\n",
      " \u001b[90m [d2c73de3] \u001b[39m\u001b[92m+ GR_jll v0.57.2+0\u001b[39m\n",
      " \u001b[90m [78b55507] \u001b[39m\u001b[92m+ Gettext_jll v0.20.1+7\u001b[39m\n",
      " \u001b[90m [7746bdde] \u001b[39m\u001b[92m+ Glib_jll v2.59.0+4\u001b[39m\n",
      " \u001b[90m [aacddb02] \u001b[39m\u001b[92m+ JpegTurbo_jll v2.0.1+3\u001b[39m\n",
      " \u001b[90m [c1c5ebd0] \u001b[39m\u001b[92m+ LAME_jll v3.100.0+3\u001b[39m\n",
      " \u001b[90m [dd4b983a] \u001b[39m\u001b[92m+ LZO_jll v2.10.0+3\u001b[39m\n",
      " \u001b[90m [dd192d2f] \u001b[39m\u001b[92m+ LibVPX_jll v1.9.0+1\u001b[39m\n",
      " \u001b[90m [e9f186c6] \u001b[39m\u001b[92m+ Libffi_jll v3.2.1+4\u001b[39m\n",
      " \u001b[90m [d4300ac3] \u001b[39m\u001b[92m+ Libgcrypt_jll v1.8.5+4\u001b[39m\n",
      " \u001b[90m [7e76a0d4] \u001b[39m\u001b[92m+ Libglvnd_jll v1.3.0+3\u001b[39m\n",
      " \u001b[90m [7add5ba3] \u001b[39m\u001b[92m+ Libgpg_error_jll v1.36.0+3\u001b[39m\n",
      " \u001b[90m [94ce4f54] \u001b[39m\u001b[92m+ Libiconv_jll v1.16.0+7\u001b[39m\n",
      " \u001b[90m [4b2f31a3] \u001b[39m\u001b[92m+ Libmount_jll v2.34.0+3\u001b[39m\n",
      " \u001b[90m [89763e89] \u001b[39m\u001b[92m+ Libtiff_jll v4.1.0+2\u001b[39m\n",
      " \u001b[90m [38a345b3] \u001b[39m\u001b[92m+ Libuuid_jll v2.34.0+7\u001b[39m\n",
      " \u001b[90m [e7412a2a] \u001b[39m\u001b[92m+ Ogg_jll v1.3.4+2\u001b[39m\n",
      " \u001b[90m [458c3c95] \u001b[39m\u001b[92m+ OpenSSL_jll v1.1.1+6\u001b[39m\n",
      " \u001b[90m [91d4177d] \u001b[39m\u001b[92m+ Opus_jll v1.3.1+3\u001b[39m\n",
      " \u001b[90m [2f80f16e] \u001b[39m\u001b[92m+ PCRE_jll v8.42.0+4\u001b[39m\n",
      " \u001b[90m [30392449] \u001b[39m\u001b[92m+ Pixman_jll v0.40.0+0\u001b[39m\n",
      " \u001b[90m [ea2cea3b] \u001b[39m\u001b[92m+ Qt5Base_jll v5.15.2+0\u001b[39m\n",
      " \u001b[90m [a2964d1f] \u001b[39m\u001b[92m+ Wayland_jll v1.17.0+4\u001b[39m\n",
      " \u001b[90m [2381bf8a] \u001b[39m\u001b[92m+ Wayland_protocols_jll v1.18.0+4\u001b[39m\n",
      " \u001b[90m [02c8fc9c] \u001b[39m\u001b[92m+ XML2_jll v2.9.11+0\u001b[39m\n",
      " \u001b[90m [aed1982a] \u001b[39m\u001b[92m+ XSLT_jll v1.1.33+4\u001b[39m\n",
      " \u001b[90m [4f6342f7] \u001b[39m\u001b[92m+ Xorg_libX11_jll v1.6.9+4\u001b[39m\n",
      " \u001b[90m [0c0b7dd1] \u001b[39m\u001b[92m+ Xorg_libXau_jll v1.0.9+4\u001b[39m\n",
      " \u001b[90m [935fb764] \u001b[39m\u001b[92m+ Xorg_libXcursor_jll v1.2.0+4\u001b[39m\n",
      " \u001b[90m [a3789734] \u001b[39m\u001b[92m+ Xorg_libXdmcp_jll v1.1.3+4\u001b[39m\n",
      " \u001b[90m [1082639a] \u001b[39m\u001b[92m+ Xorg_libXext_jll v1.3.4+4\u001b[39m\n",
      " \u001b[90m [d091e8ba] \u001b[39m\u001b[92m+ Xorg_libXfixes_jll v5.0.3+4\u001b[39m\n",
      " \u001b[90m [a51aa0fd] \u001b[39m\u001b[92m+ Xorg_libXi_jll v1.7.10+4\u001b[39m\n",
      " \u001b[90m [d1454406] \u001b[39m\u001b[92m+ Xorg_libXinerama_jll v1.1.4+4\u001b[39m\n",
      " \u001b[90m [ec84b674] \u001b[39m\u001b[92m+ Xorg_libXrandr_jll v1.5.2+4\u001b[39m\n",
      " \u001b[90m [ea2f1a96] \u001b[39m\u001b[92m+ Xorg_libXrender_jll v0.9.10+4\u001b[39m\n",
      " \u001b[90m [14d82f49] \u001b[39m\u001b[92m+ Xorg_libpthread_stubs_jll v0.1.0+3\u001b[39m\n",
      " \u001b[90m [c7cfdc94] \u001b[39m\u001b[92m+ Xorg_libxcb_jll v1.13.0+3\u001b[39m\n",
      " \u001b[90m [cc61e674] \u001b[39m\u001b[92m+ Xorg_libxkbfile_jll v1.1.0+4\u001b[39m\n",
      " \u001b[90m [12413925] \u001b[39m\u001b[92m+ Xorg_xcb_util_image_jll v0.4.0+1\u001b[39m\n",
      " \u001b[90m [2def613f] \u001b[39m\u001b[92m+ Xorg_xcb_util_jll v0.4.0+1\u001b[39m\n",
      " \u001b[90m [975044d2] \u001b[39m\u001b[92m+ Xorg_xcb_util_keysyms_jll v0.4.0+1\u001b[39m\n",
      " \u001b[90m [0d47668e] \u001b[39m\u001b[92m+ Xorg_xcb_util_renderutil_jll v0.3.9+1\u001b[39m\n",
      " \u001b[90m [c22f9ab0] \u001b[39m\u001b[92m+ Xorg_xcb_util_wm_jll v0.4.1+1\u001b[39m\n",
      " \u001b[90m [35661453] \u001b[39m\u001b[92m+ Xorg_xkbcomp_jll v1.4.2+4\u001b[39m\n",
      " \u001b[90m [33bec58e] \u001b[39m\u001b[92m+ Xorg_xkeyboard_config_jll v2.27.0+4\u001b[39m\n",
      " \u001b[90m [c5fb5394] \u001b[39m\u001b[92m+ Xorg_xtrans_jll v1.4.0+3\u001b[39m\n",
      " \u001b[90m [3161d3a3] \u001b[39m\u001b[92m+ Zstd_jll v1.4.8+0\u001b[39m\n",
      " \u001b[90m [0ac62f75] \u001b[39m\u001b[92m+ libass_jll v0.14.0+4\u001b[39m\n",
      " \u001b[90m [f638f0a6] \u001b[39m\u001b[92m+ libfdk_aac_jll v0.1.6+4\u001b[39m\n",
      " \u001b[90m [b53b4c65] \u001b[39m\u001b[92m+ libpng_jll v1.6.37+6\u001b[39m\n",
      " \u001b[90m [f27f6e37] \u001b[39m\u001b[92m+ libvorbis_jll v1.3.6+6\u001b[39m\n",
      " \u001b[90m [1270edf5] \u001b[39m\u001b[92m+ x264_jll v2020.7.14+2\u001b[39m\n",
      " \u001b[90m [dfaa095f] \u001b[39m\u001b[92m+ x265_jll v3.0.0+3\u001b[39m\n",
      " \u001b[90m [d8fb68d0] \u001b[39m\u001b[92m+ xkbcommon_jll v0.9.1+5\u001b[39m\n",
      "\u001b[32m\u001b[1mPrecompiling\u001b[22m\u001b[39m project...\n",
      "\u001b[32m  ✓ \u001b[39m\u001b[90mURIs\u001b[39m\n",
      "\u001b[32m  ✓ \u001b[39m\u001b[90mProgressMeter\u001b[39m\n",
      "\u001b[32m  ✓ \u001b[39m\u001b[90mGrisu\u001b[39m\n",
      "\u001b[32m  ✓ \u001b[39m\u001b[90mShowoff\u001b[39m\n",
      "\u001b[32m  ✓ \u001b[39m\u001b[90mWidgets\u001b[39m\n",
      "\u001b[32m  ✓ \u001b[39m\u001b[90mHTTP\u001b[39m\n",
      "\u001b[32m  ✓ \u001b[39m\u001b[90mGR\u001b[39m\n",
      "\u001b[32m  ✓ \u001b[39m\u001b[90mPlots\u001b[39m\n",
      "\u001b[32m  ✓ \u001b[39m\u001b[90mStatsPlots\u001b[39m\n",
      "\u001b[32m  ✓ \u001b[39mSyntheticLikelihood\n",
      "10 dependencies successfully precompiled in 68 seconds (254 already precompiled)\n"
     ]
    }
   ],
   "source": [
    "Pkg.add(url = \"https://github.com/danielward27/SyntheticLikelihood.jl\")"
   ]
  }
 ],
 "metadata": {
  "kernelspec": {
   "display_name": "Julia 1.6.0",
   "language": "julia",
   "name": "julia-1.6"
  },
  "language_info": {
   "file_extension": ".jl",
   "mimetype": "application/julia",
   "name": "julia",
   "version": "1.6.0"
  }
 },
 "nbformat": 4,
 "nbformat_minor": 5
}
