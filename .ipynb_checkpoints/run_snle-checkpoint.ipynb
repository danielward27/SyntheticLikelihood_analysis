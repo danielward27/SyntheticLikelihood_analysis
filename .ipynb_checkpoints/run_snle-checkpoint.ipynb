{
 "cells": [
  {
   "cell_type": "markdown",
   "id": "41de5259",
   "metadata": {},
   "source": [
    "## Run SNLE on the tasks\n",
    "I had some issues running this. It seems there is a bug which causes the second algorithm to fail (perhaps sbibm mutates something it shouldn't??). It works if you restart the kernel before running each algorithm, hence the goofy code to make that more convenient..."
   ]
  },
  {
   "cell_type": "markdown",
   "id": "deca70c2",
   "metadata": {},
   "source": [
    "### Imports"
   ]
  },
  {
   "cell_type": "code",
   "execution_count": 1,
   "id": "3bec5e87",
   "metadata": {},
   "outputs": [],
   "source": [
    "import sbibm\n",
    "from sbibm.algorithms import snle\n",
    "import time\n",
    "import numpy as np\n",
    "import pandas as pd\n",
    "import os.path\n",
    "import csv\n"
   ]
  },
  {
   "cell_type": "code",
   "execution_count": 2,
   "id": "fe957982-ab21-4edc-b2ee-d6265422da1c",
   "metadata": {},
   "outputs": [],
   "source": [
    "i = 4\n",
    "results_path = \"results/snle.csv\""
   ]
  },
  {
   "cell_type": "markdown",
   "id": "a4b841ed",
   "metadata": {},
   "source": [
    "## Run SNLE"
   ]
  },
  {
   "cell_type": "code",
   "execution_count": 3,
   "id": "996b4ab7",
   "metadata": {},
   "outputs": [],
   "source": [
    "n_sim = 100_000\n",
    "n_samples = 3000\n",
    "task_names = [\"gaussian_linear\", \"gaussian_linear_uniform\", \"bernoulli_glm\", \"gaussian_mixture\", \"sir\"]"
   ]
  },
  {
   "cell_type": "code",
   "execution_count": 4,
   "id": "1ae42b5e-bb52-40bd-89a0-bea079754407",
   "metadata": {},
   "outputs": [],
   "source": [
    "def run_snle(task_name, seed = 1):\n",
    "    np.random.seed(seed)\n",
    "    print(f\"Running task {task_name}\")\n",
    "    task = sbibm.get_task(task_name)\n",
    "    start_time = time.time()\n",
    "    posterior_samples, _, _ = snle(task=task, num_samples=n_samples, num_observation=1, num_simulations=n_sim)\n",
    "    elapsed_time = time.time() - start_time\n",
    "    print(f\"Elapsed time: {elapsed_time}\")\n",
    "    np.savetxt(f\"./samples/{task_name}_snle.txt\", posterior_samples.numpy(), delimiter = \"\\t\")\n",
    "    results = {}\n",
    "    results[\"tasks\"] = task_name\n",
    "    results[\"run_times\"] = elapsed_time\n",
    "    return results\n"
   ]
  },
  {
   "cell_type": "code",
   "execution_count": 5,
   "id": "7ee78035-3c18-4998-96ef-18c30a5df5a6",
   "metadata": {
    "tags": []
   },
   "outputs": [
    {
     "name": "stdout",
     "output_type": "stream",
     "text": [
      "Running task sir\n"
     ]
    },
    {
     "name": "stderr",
     "output_type": "stream",
     "text": [
      "/home/dw16200/miniconda3/envs/snle_env/lib/python3.8/site-packages/diffeqtorch/diffeqtorch.py:29: UserWarning: JULIA_SYSIMAGE_DIFFEQTORCH not set\n",
      "  warn(\"JULIA_SYSIMAGE_DIFFEQTORCH not set\")\n"
     ]
    },
    {
     "data": {
      "application/vnd.jupyter.widget-view+json": {
       "model_id": "3331bbfd3b9142b2942cf8fcca96aafa",
       "version_major": 2,
       "version_minor": 0
      },
      "text/plain": [
       "Running 10000 simulations.:   0%|          | 0/10000 [00:00<?, ?it/s]"
      ]
     },
     "metadata": {},
     "output_type": "display_data"
    },
    {
     "name": "stdout",
     "output_type": "stream",
     "text": [
      "Neural network successfully converged after 1014 epochs.\n",
      "\n",
      "        -------------------------\n",
      "        ||||| ROUND 1 STATS |||||:\n",
      "        -------------------------\n",
      "        Epochs trained: 1014\n",
      "        Best validation performance: -10.6194\n",
      "        -------------------------\n",
      "        \n"
     ]
    },
    {
     "name": "stderr",
     "output_type": "stream",
     "text": [
      "  0%|          | 0/125000 [00:00<?, ?it/s]"
     ]
    },
    {
     "name": "stdout",
     "output_type": "stream",
     "text": [
      "Generating MCMC samples\n"
     ]
    },
    {
     "name": "stderr",
     "output_type": "stream",
     "text": [
      "100%|█████████▉| 124990/125000 [01:40<00:00, 242.19it/s] "
     ]
    },
    {
     "data": {
      "application/vnd.jupyter.widget-view+json": {
       "model_id": "49f1b8fbaca14f8692df567957467b9f",
       "version_major": 2,
       "version_minor": 0
      },
      "text/plain": [
       "Running 10000 simulations.:   0%|          | 0/10000 [00:00<?, ?it/s]"
      ]
     },
     "metadata": {},
     "output_type": "display_data"
    },
    {
     "name": "stderr",
     "output_type": "stream",
     "text": [
      "100%|██████████| 125000/125000 [01:41<00:00, 1236.16it/s]\n"
     ]
    },
    {
     "name": "stdout",
     "output_type": "stream",
     "text": [
      "Neural network successfully converged after 278 epochs.\n",
      "\n",
      "        -------------------------\n",
      "        ||||| ROUND 2 STATS |||||:\n",
      "        -------------------------\n",
      "        Epochs trained: 278\n",
      "        Best validation performance: -4.7591\n",
      "        -------------------------\n",
      "        \n"
     ]
    },
    {
     "name": "stderr",
     "output_type": "stream",
     "text": [
      "  0%|          | 0/125000 [00:00<?, ?it/s]"
     ]
    },
    {
     "name": "stdout",
     "output_type": "stream",
     "text": [
      "Generating MCMC samples\n"
     ]
    },
    {
     "name": "stderr",
     "output_type": "stream",
     "text": [
      "100%|██████████| 125000/125000 [01:38<00:00, 555.40it/s] "
     ]
    },
    {
     "data": {
      "application/vnd.jupyter.widget-view+json": {
       "model_id": "eb89c0ec353241b292f93ed4a5a3c73b",
       "version_major": 2,
       "version_minor": 0
      },
      "text/plain": [
       "Running 10000 simulations.:   0%|          | 0/10000 [00:00<?, ?it/s]"
      ]
     },
     "metadata": {},
     "output_type": "display_data"
    },
    {
     "name": "stderr",
     "output_type": "stream",
     "text": [
      "100%|██████████| 125000/125000 [01:38<00:00, 1265.29it/s]\n"
     ]
    },
    {
     "name": "stdout",
     "output_type": "stream",
     "text": [
      "Neural network successfully converged after 100 epochs.\n",
      "\n",
      "        -------------------------\n",
      "        ||||| ROUND 3 STATS |||||:\n",
      "        -------------------------\n",
      "        Epochs trained: 100\n",
      "        Best validation performance: -2.2502\n",
      "        -------------------------\n",
      "        \n"
     ]
    },
    {
     "name": "stderr",
     "output_type": "stream",
     "text": [
      "  0%|          | 0/125000 [00:00<?, ?it/s]"
     ]
    },
    {
     "name": "stdout",
     "output_type": "stream",
     "text": [
      "Generating MCMC samples\n"
     ]
    },
    {
     "name": "stderr",
     "output_type": "stream",
     "text": [
      "100%|█████████▉| 124980/125000 [01:14<00:00, 631.53it/s] "
     ]
    },
    {
     "data": {
      "application/vnd.jupyter.widget-view+json": {
       "model_id": "4dd8501ec8734e929e026451fb822758",
       "version_major": 2,
       "version_minor": 0
      },
      "text/plain": [
       "Running 10000 simulations.:   0%|          | 0/10000 [00:00<?, ?it/s]"
      ]
     },
     "metadata": {},
     "output_type": "display_data"
    },
    {
     "name": "stderr",
     "output_type": "stream",
     "text": [
      "100%|██████████| 125000/125000 [01:14<00:00, 1676.42it/s]\n"
     ]
    },
    {
     "name": "stdout",
     "output_type": "stream",
     "text": [
      "Neural network successfully converged after 100 epochs.\n",
      "\n",
      "        -------------------------\n",
      "        ||||| ROUND 4 STATS |||||:\n",
      "        -------------------------\n",
      "        Epochs trained: 100\n",
      "        Best validation performance: 0.8606\n",
      "        -------------------------\n",
      "        \n"
     ]
    },
    {
     "name": "stderr",
     "output_type": "stream",
     "text": [
      "  0%|          | 0/125000 [00:00<?, ?it/s]"
     ]
    },
    {
     "name": "stdout",
     "output_type": "stream",
     "text": [
      "Generating MCMC samples\n"
     ]
    },
    {
     "name": "stderr",
     "output_type": "stream",
     "text": [
      "100%|█████████▉| 124960/125000 [01:41<00:00, 522.10it/s] "
     ]
    },
    {
     "data": {
      "application/vnd.jupyter.widget-view+json": {
       "model_id": "bdcc57936fce4d82809ed0eb701a1b65",
       "version_major": 2,
       "version_minor": 0
      },
      "text/plain": [
       "Running 10000 simulations.:   0%|          | 0/10000 [00:00<?, ?it/s]"
      ]
     },
     "metadata": {},
     "output_type": "display_data"
    },
    {
     "name": "stderr",
     "output_type": "stream",
     "text": [
      "100%|██████████| 125000/125000 [01:41<00:00, 1226.25it/s]\n"
     ]
    },
    {
     "name": "stdout",
     "output_type": "stream",
     "text": [
      "Neural network successfully converged after 57 epochs.\n",
      "\n",
      "        -------------------------\n",
      "        ||||| ROUND 5 STATS |||||:\n",
      "        -------------------------\n",
      "        Epochs trained: 57\n",
      "        Best validation performance: 2.7523\n",
      "        -------------------------\n",
      "        \n"
     ]
    },
    {
     "name": "stderr",
     "output_type": "stream",
     "text": [
      "  0%|          | 0/125000 [00:00<?, ?it/s]"
     ]
    },
    {
     "name": "stdout",
     "output_type": "stream",
     "text": [
      "Generating MCMC samples\n"
     ]
    },
    {
     "name": "stderr",
     "output_type": "stream",
     "text": [
      "100%|█████████▉| 124990/125000 [01:38<00:00, 361.85it/s] "
     ]
    },
    {
     "data": {
      "application/vnd.jupyter.widget-view+json": {
       "model_id": "fc941b26910148e9b1bbdcbf2a4c5746",
       "version_major": 2,
       "version_minor": 0
      },
      "text/plain": [
       "Running 10000 simulations.:   0%|          | 0/10000 [00:00<?, ?it/s]"
      ]
     },
     "metadata": {},
     "output_type": "display_data"
    },
    {
     "name": "stderr",
     "output_type": "stream",
     "text": [
      "100%|██████████| 125000/125000 [01:39<00:00, 1256.12it/s]\n"
     ]
    },
    {
     "name": "stdout",
     "output_type": "stream",
     "text": [
      "Neural network successfully converged after 132 epochs.\n",
      "\n",
      "        -------------------------\n",
      "        ||||| ROUND 6 STATS |||||:\n",
      "        -------------------------\n",
      "        Epochs trained: 132\n",
      "        Best validation performance: 5.1519\n",
      "        -------------------------\n",
      "        \n"
     ]
    },
    {
     "name": "stderr",
     "output_type": "stream",
     "text": [
      "  0%|          | 0/125000 [00:00<?, ?it/s]"
     ]
    },
    {
     "name": "stdout",
     "output_type": "stream",
     "text": [
      "Generating MCMC samples\n"
     ]
    },
    {
     "name": "stderr",
     "output_type": "stream",
     "text": [
      "100%|█████████▉| 124920/125000 [01:13<00:00, 839.52it/s] "
     ]
    },
    {
     "data": {
      "application/vnd.jupyter.widget-view+json": {
       "model_id": "f6f31f63121542f599f05acad7cf6b89",
       "version_major": 2,
       "version_minor": 0
      },
      "text/plain": [
       "Running 10000 simulations.:   0%|          | 0/10000 [00:00<?, ?it/s]"
      ]
     },
     "metadata": {},
     "output_type": "display_data"
    },
    {
     "name": "stderr",
     "output_type": "stream",
     "text": [
      "100%|██████████| 125000/125000 [01:14<00:00, 1673.62it/s]\n"
     ]
    },
    {
     "name": "stdout",
     "output_type": "stream",
     "text": [
      "Neural network successfully converged after 36 epochs.\n",
      "\n",
      "        -------------------------\n",
      "        ||||| ROUND 7 STATS |||||:\n",
      "        -------------------------\n",
      "        Epochs trained: 36\n",
      "        Best validation performance: 4.6987\n",
      "        -------------------------\n",
      "        \n"
     ]
    },
    {
     "name": "stderr",
     "output_type": "stream",
     "text": [
      "  0%|          | 0/125000 [00:00<?, ?it/s]"
     ]
    },
    {
     "name": "stdout",
     "output_type": "stream",
     "text": [
      "Generating MCMC samples\n"
     ]
    },
    {
     "name": "stderr",
     "output_type": "stream",
     "text": [
      "100%|█████████▉| 124990/125000 [01:35<00:00, 432.50it/s] "
     ]
    },
    {
     "data": {
      "application/vnd.jupyter.widget-view+json": {
       "model_id": "8f06ff85ea414b6db3c64aef79194499",
       "version_major": 2,
       "version_minor": 0
      },
      "text/plain": [
       "Running 10000 simulations.:   0%|          | 0/10000 [00:00<?, ?it/s]"
      ]
     },
     "metadata": {},
     "output_type": "display_data"
    },
    {
     "name": "stderr",
     "output_type": "stream",
     "text": [
      "100%|██████████| 125000/125000 [01:36<00:00, 1297.67it/s]\n"
     ]
    },
    {
     "name": "stdout",
     "output_type": "stream",
     "text": [
      "Neural network successfully converged after 62 epochs.\n",
      "\n",
      "        -------------------------\n",
      "        ||||| ROUND 8 STATS |||||:\n",
      "        -------------------------\n",
      "        Epochs trained: 62\n",
      "        Best validation performance: 6.1675\n",
      "        -------------------------\n",
      "        \n"
     ]
    },
    {
     "name": "stderr",
     "output_type": "stream",
     "text": [
      "  0%|          | 0/125000 [00:00<?, ?it/s]"
     ]
    },
    {
     "name": "stdout",
     "output_type": "stream",
     "text": [
      "Generating MCMC samples\n"
     ]
    },
    {
     "name": "stderr",
     "output_type": "stream",
     "text": [
      "100%|█████████▉| 124950/125000 [01:34<00:00, 450.70it/s] "
     ]
    },
    {
     "data": {
      "application/vnd.jupyter.widget-view+json": {
       "model_id": "abf4967705f142a3a104603ba748b7b7",
       "version_major": 2,
       "version_minor": 0
      },
      "text/plain": [
       "Running 10000 simulations.:   0%|          | 0/10000 [00:00<?, ?it/s]"
      ]
     },
     "metadata": {},
     "output_type": "display_data"
    },
    {
     "name": "stderr",
     "output_type": "stream",
     "text": [
      "100%|██████████| 125000/125000 [01:35<00:00, 1308.23it/s]\n"
     ]
    },
    {
     "name": "stdout",
     "output_type": "stream",
     "text": [
      "Neural network successfully converged after 71 epochs.\n",
      "\n",
      "        -------------------------\n",
      "        ||||| ROUND 9 STATS |||||:\n",
      "        -------------------------\n",
      "        Epochs trained: 71\n",
      "        Best validation performance: 7.4745\n",
      "        -------------------------\n",
      "        \n"
     ]
    },
    {
     "name": "stderr",
     "output_type": "stream",
     "text": [
      "  0%|          | 0/125000 [00:00<?, ?it/s]"
     ]
    },
    {
     "name": "stdout",
     "output_type": "stream",
     "text": [
      "Generating MCMC samples\n"
     ]
    },
    {
     "name": "stderr",
     "output_type": "stream",
     "text": [
      "100%|█████████▉| 124950/125000 [01:21<00:00, 730.12it/s] "
     ]
    },
    {
     "data": {
      "application/vnd.jupyter.widget-view+json": {
       "model_id": "969c23f267b544c5b82a74a9dde6f442",
       "version_major": 2,
       "version_minor": 0
      },
      "text/plain": [
       "Running 10000 simulations.:   0%|          | 0/10000 [00:00<?, ?it/s]"
      ]
     },
     "metadata": {},
     "output_type": "display_data"
    },
    {
     "name": "stderr",
     "output_type": "stream",
     "text": [
      "100%|██████████| 125000/125000 [01:22<00:00, 1520.77it/s]\n"
     ]
    },
    {
     "name": "stdout",
     "output_type": "stream",
     "text": [
      "Neural network successfully converged after 40 epochs.\n",
      "\n",
      "        -------------------------\n",
      "        ||||| ROUND 10 STATS |||||:\n",
      "        -------------------------\n",
      "        Epochs trained: 40\n",
      "        Best validation performance: 8.2878\n",
      "        -------------------------\n",
      "        \n"
     ]
    },
    {
     "name": "stderr",
     "output_type": "stream",
     "text": [
      "  0%|          | 0/55000 [00:00<?, ?it/s]"
     ]
    },
    {
     "name": "stdout",
     "output_type": "stream",
     "text": [
      "Generating MCMC samples\n"
     ]
    },
    {
     "name": "stderr",
     "output_type": "stream",
     "text": [
      "100%|█████████▉| 54990/55000 [00:43<00:00, 671.08it/s] "
     ]
    },
    {
     "name": "stdout",
     "output_type": "stream",
     "text": [
      "Elapsed time: 3669.503044605255\n"
     ]
    },
    {
     "name": "stderr",
     "output_type": "stream",
     "text": [
      "100%|██████████| 55000/55000 [00:58<00:00, 671.08it/s]"
     ]
    }
   ],
   "source": [
    "results = run_snle(task_names[i], i)"
   ]
  },
  {
   "cell_type": "code",
   "execution_count": 7,
   "id": "059f5131-8323-4164-a586-e468f5a5b0e7",
   "metadata": {},
   "outputs": [],
   "source": [
    "if os.path.isfile(results_path):\n",
    "    mode = \"a\"\n",
    "else:\n",
    "    mode = \"w+\"\n",
    "\n",
    "with open(results_path, mode, newline='') as f:\n",
    "    writer = csv.writer(f, quoting=csv.QUOTE_ALL)\n",
    "    writer.writerow(results.values())\n"
   ]
  },
  {
   "cell_type": "markdown",
   "id": "8d073a74",
   "metadata": {},
   "source": [
    "## Reprex"
   ]
  },
  {
   "cell_type": "code",
   "execution_count": 7,
   "id": "f6f88da0",
   "metadata": {},
   "outputs": [
    {
     "name": "stderr",
     "output_type": "stream",
     "text": [
      "100%|██████████| 55000/55000 [03:48<00:00, 103.55it/s]"
     ]
    }
   ],
   "source": [
    "#import sbibm\n",
    "#from sbibm.algorithms import snle\n",
    "#\n",
    "#task = sbibm.get_task(\"gaussian_linear_uniform\")    \n",
    "#posterior_samples, _, _ = snle(task=task, num_samples=100, num_observation=1, num_simulations=1000)"
   ]
  }
 ],
 "metadata": {
  "kernelspec": {
   "display_name": "Python 3",
   "language": "python",
   "name": "python3"
  },
  "language_info": {
   "codemirror_mode": {
    "name": "ipython",
    "version": 3
   },
   "file_extension": ".py",
   "mimetype": "text/x-python",
   "name": "python",
   "nbconvert_exporter": "python",
   "pygments_lexer": "ipython3",
   "version": "3.8.8"
  }
 },
 "nbformat": 4,
 "nbformat_minor": 5
}
