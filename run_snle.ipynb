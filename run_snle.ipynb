{
 "cells": [
  {
   "cell_type": "markdown",
   "id": "41de5259",
   "metadata": {},
   "source": [
    "## Run SNLE on the tasks\n",
    "I had some issues running this. It seems there is a bug which causes the second algorithm to fail (perhaps sbibm mutates something it shouldn't??). It works if you restart the kernel before running each algorithm, hence the goofy code to make that more convenient..."
   ]
  },
  {
   "cell_type": "markdown",
   "id": "deca70c2",
   "metadata": {},
   "source": [
    "### Imports"
   ]
  },
  {
   "cell_type": "code",
   "execution_count": 27,
   "id": "3bec5e87",
   "metadata": {},
   "outputs": [],
   "source": [
    "import sbibm\n",
    "from sbibm.algorithms import snle\n",
    "import time\n",
    "import numpy as np\n",
    "import pandas as pd\n",
    "import os.path\n",
    "import csv\n"
   ]
  },
  {
   "cell_type": "code",
   "execution_count": 28,
   "id": "fe957982-ab21-4edc-b2ee-d6265422da1c",
   "metadata": {},
   "outputs": [],
   "source": [
    "i = 1\n",
    "results_path = \"results/snlp.csv\"\n",
    "if os.path.isfile(results_path):\n",
    "    mode = \"a\"\n",
    "else:\n",
    "    mode = \"w\""
   ]
  },
  {
   "cell_type": "markdown",
   "id": "a4b841ed",
   "metadata": {},
   "source": [
    "## Run SNLE"
   ]
  },
  {
   "cell_type": "code",
   "execution_count": 29,
   "id": "996b4ab7",
   "metadata": {},
   "outputs": [],
   "source": [
    "n_sim = 1000\n",
    "n_samples = 100\n",
    "task_names = [\"gaussian_linear\", \"gaussian_linear_uniform\", \"bernoulli_glm\", \"gaussian_mixture\", \"sir\"]"
   ]
  },
  {
   "cell_type": "code",
   "execution_count": 32,
   "id": "1ae42b5e-bb52-40bd-89a0-bea079754407",
   "metadata": {},
   "outputs": [],
   "source": [
    "def run_snle(task_name, seed = 1):\n",
    "    np.random.seed(seed)\n",
    "    print(f\"Running task {task_name}\")\n",
    "    task = sbibm.get_task(task_name)\n",
    "    start_time = time.time()\n",
    "    posterior_samples, _, _ = snle(task=task, num_samples=n_samples, num_observation=1, num_simulations=n_sim)\n",
    "    elapsed_time = time.time() - start_time\n",
    "    print(f\"Elapsed time: {elapsed_time}\")\n",
    "    np.savetxt(f\"./samples/{task_name}_snle.txt\", posterior_samples.numpy(), delimiter = \"\\t\")\n",
    "    results[\"tasks\"] = task_name\n",
    "    results[\"run_times\"] = elapsed_time\n",
    "    return results\n"
   ]
  },
  {
   "cell_type": "code",
   "execution_count": 33,
   "id": "7ee78035-3c18-4998-96ef-18c30a5df5a6",
   "metadata": {},
   "outputs": [
    {
     "name": "stderr",
     "output_type": "stream",
     "text": [
      "Reduced simulation_batch_size to num_simulation_per_round\n",
      "Reduced training_batch_size to num_simulation_per_round\n"
     ]
    },
    {
     "name": "stdout",
     "output_type": "stream",
     "text": [
      "Running task gaussian_linear_uniform\n",
      "Neural network successfully converged after 163 epochs.\n",
      "\n",
      "        -------------------------\n",
      "        ||||| ROUND 1 STATS |||||:\n",
      "        -------------------------\n",
      "        Epochs trained: 163\n",
      "        Best validation performance: -7.2217\n",
      "        -------------------------\n",
      "        \n"
     ]
    },
    {
     "name": "stderr",
     "output_type": "stream",
     "text": [
      "  0%|          | 0/26000 [00:00<?, ?it/s]"
     ]
    },
    {
     "name": "stdout",
     "output_type": "stream",
     "text": [
      "Generating MCMC samples\n"
     ]
    },
    {
     "name": "stderr",
     "output_type": "stream",
     "text": [
      "100%|██████████| 26000/26000 [01:47<00:00, 240.93it/s]\n"
     ]
    },
    {
     "name": "stdout",
     "output_type": "stream",
     "text": [
      "Neural network successfully converged after 71 epochs.\n",
      "\n",
      "        -------------------------\n",
      "        ||||| ROUND 2 STATS |||||:\n",
      "        -------------------------\n",
      "        Epochs trained: 71\n",
      "        Best validation performance: -5.0293\n",
      "        -------------------------\n",
      "        \n"
     ]
    },
    {
     "name": "stderr",
     "output_type": "stream",
     "text": [
      "  0%|          | 0/26000 [00:00<?, ?it/s]"
     ]
    },
    {
     "name": "stdout",
     "output_type": "stream",
     "text": [
      "Generating MCMC samples\n"
     ]
    },
    {
     "name": "stderr",
     "output_type": "stream",
     "text": [
      "100%|██████████| 26000/26000 [01:52<00:00, 231.51it/s]\n"
     ]
    },
    {
     "name": "stdout",
     "output_type": "stream",
     "text": [
      "Neural network successfully converged after 47 epochs.\n",
      "\n",
      "        -------------------------\n",
      "        ||||| ROUND 3 STATS |||||:\n",
      "        -------------------------\n",
      "        Epochs trained: 47\n",
      "        Best validation performance: -3.6744\n",
      "        -------------------------\n",
      "        \n"
     ]
    },
    {
     "name": "stderr",
     "output_type": "stream",
     "text": [
      "  0%|          | 0/26000 [00:00<?, ?it/s]"
     ]
    },
    {
     "name": "stdout",
     "output_type": "stream",
     "text": [
      "Generating MCMC samples\n"
     ]
    },
    {
     "name": "stderr",
     "output_type": "stream",
     "text": [
      "100%|██████████| 26000/26000 [01:48<00:00, 240.25it/s]\n"
     ]
    },
    {
     "name": "stdout",
     "output_type": "stream",
     "text": [
      "Neural network successfully converged after 37 epochs.\n",
      "\n",
      "        -------------------------\n",
      "        ||||| ROUND 4 STATS |||||:\n",
      "        -------------------------\n",
      "        Epochs trained: 37\n",
      "        Best validation performance: -3.4305\n",
      "        -------------------------\n",
      "        \n"
     ]
    },
    {
     "name": "stderr",
     "output_type": "stream",
     "text": [
      "  0%|          | 0/26000 [00:00<?, ?it/s]"
     ]
    },
    {
     "name": "stdout",
     "output_type": "stream",
     "text": [
      "Generating MCMC samples\n"
     ]
    },
    {
     "name": "stderr",
     "output_type": "stream",
     "text": [
      "100%|██████████| 26000/26000 [02:01<00:00, 213.13it/s]\n"
     ]
    },
    {
     "name": "stdout",
     "output_type": "stream",
     "text": [
      "Neural network successfully converged after 42 epochs.\n",
      "\n",
      "        -------------------------\n",
      "        ||||| ROUND 5 STATS |||||:\n",
      "        -------------------------\n",
      "        Epochs trained: 42\n",
      "        Best validation performance: -2.9537\n",
      "        -------------------------\n",
      "        \n"
     ]
    },
    {
     "name": "stderr",
     "output_type": "stream",
     "text": [
      "  0%|          | 0/26000 [00:00<?, ?it/s]"
     ]
    },
    {
     "name": "stdout",
     "output_type": "stream",
     "text": [
      "Generating MCMC samples\n"
     ]
    },
    {
     "name": "stderr",
     "output_type": "stream",
     "text": [
      "100%|██████████| 26000/26000 [01:47<00:00, 242.32it/s]\n"
     ]
    },
    {
     "name": "stdout",
     "output_type": "stream",
     "text": [
      "Neural network successfully converged after 25 epochs.\n",
      "\n",
      "        -------------------------\n",
      "        ||||| ROUND 6 STATS |||||:\n",
      "        -------------------------\n",
      "        Epochs trained: 25\n",
      "        Best validation performance: -2.2303\n",
      "        -------------------------\n",
      "        \n"
     ]
    },
    {
     "name": "stderr",
     "output_type": "stream",
     "text": [
      "  0%|          | 0/26000 [00:00<?, ?it/s]"
     ]
    },
    {
     "name": "stdout",
     "output_type": "stream",
     "text": [
      "Generating MCMC samples\n"
     ]
    },
    {
     "name": "stderr",
     "output_type": "stream",
     "text": [
      "100%|██████████| 26000/26000 [01:40<00:00, 259.93it/s]\n"
     ]
    },
    {
     "name": "stdout",
     "output_type": "stream",
     "text": [
      "Neural network successfully converged after 21 epochs.\n",
      "\n",
      "        -------------------------\n",
      "        ||||| ROUND 7 STATS |||||:\n",
      "        -------------------------\n",
      "        Epochs trained: 21\n",
      "        Best validation performance: -2.4317\n",
      "        -------------------------\n",
      "        \n"
     ]
    },
    {
     "name": "stderr",
     "output_type": "stream",
     "text": [
      "  0%|          | 0/26000 [00:00<?, ?it/s]"
     ]
    },
    {
     "name": "stdout",
     "output_type": "stream",
     "text": [
      "Generating MCMC samples\n"
     ]
    },
    {
     "name": "stderr",
     "output_type": "stream",
     "text": [
      "100%|██████████| 26000/26000 [01:48<00:00, 239.98it/s]\n"
     ]
    },
    {
     "name": "stdout",
     "output_type": "stream",
     "text": [
      "Neural network successfully converged after 28 epochs.\n",
      "\n",
      "        -------------------------\n",
      "        ||||| ROUND 8 STATS |||||:\n",
      "        -------------------------\n",
      "        Epochs trained: 28\n",
      "        Best validation performance: -2.4858\n",
      "        -------------------------\n",
      "        \n"
     ]
    },
    {
     "name": "stderr",
     "output_type": "stream",
     "text": [
      "  0%|          | 0/26000 [00:00<?, ?it/s]"
     ]
    },
    {
     "name": "stdout",
     "output_type": "stream",
     "text": [
      "Generating MCMC samples\n"
     ]
    },
    {
     "name": "stderr",
     "output_type": "stream",
     "text": [
      "100%|██████████| 26000/26000 [01:37<00:00, 266.19it/s]\n"
     ]
    },
    {
     "name": "stdout",
     "output_type": "stream",
     "text": [
      "Neural network successfully converged after 21 epochs.\n",
      "\n",
      "        -------------------------\n",
      "        ||||| ROUND 9 STATS |||||:\n",
      "        -------------------------\n",
      "        Epochs trained: 21\n",
      "        Best validation performance: -2.8309\n",
      "        -------------------------\n",
      "        \n"
     ]
    },
    {
     "name": "stderr",
     "output_type": "stream",
     "text": [
      "  0%|          | 0/26000 [00:00<?, ?it/s]"
     ]
    },
    {
     "name": "stdout",
     "output_type": "stream",
     "text": [
      "Generating MCMC samples\n"
     ]
    },
    {
     "name": "stderr",
     "output_type": "stream",
     "text": [
      "100%|██████████| 26000/26000 [01:45<00:00, 245.31it/s]\n"
     ]
    },
    {
     "name": "stdout",
     "output_type": "stream",
     "text": [
      "Neural network successfully converged after 22 epochs.\n",
      "\n",
      "        -------------------------\n",
      "        ||||| ROUND 10 STATS |||||:\n",
      "        -------------------------\n",
      "        Epochs trained: 22\n",
      "        Best validation performance: -2.6270\n",
      "        -------------------------\n",
      "        \n"
     ]
    },
    {
     "name": "stderr",
     "output_type": "stream",
     "text": [
      "  0%|          | 0/26000 [00:00<?, ?it/s]"
     ]
    },
    {
     "name": "stdout",
     "output_type": "stream",
     "text": [
      "Generating MCMC samples\n"
     ]
    },
    {
     "name": "stderr",
     "output_type": "stream",
     "text": [
      "100%|██████████| 26000/26000 [01:41<00:00, 17.91it/s] "
     ]
    },
    {
     "name": "stdout",
     "output_type": "stream",
     "text": [
      "Elapsed time: 1929.16374874115\n"
     ]
    },
    {
     "ename": "NameError",
     "evalue": "name 'results' is not defined",
     "output_type": "error",
     "traceback": [
      "\u001b[0;31m---------------------------------------------------------------------------\u001b[0m",
      "\u001b[0;31mNameError\u001b[0m                                 Traceback (most recent call last)",
      "\u001b[0;32m<ipython-input-33-73ddd9db211b>\u001b[0m in \u001b[0;36m<module>\u001b[0;34m\u001b[0m\n\u001b[0;32m----> 1\u001b[0;31m \u001b[0mresults\u001b[0m \u001b[0;34m=\u001b[0m \u001b[0mrun_snle\u001b[0m\u001b[0;34m(\u001b[0m\u001b[0mtask_names\u001b[0m\u001b[0;34m[\u001b[0m\u001b[0mi\u001b[0m\u001b[0;34m]\u001b[0m\u001b[0;34m,\u001b[0m \u001b[0mi\u001b[0m\u001b[0;34m)\u001b[0m\u001b[0;34m\u001b[0m\u001b[0;34m\u001b[0m\u001b[0m\n\u001b[0m",
      "\u001b[0;32m<ipython-input-32-28b66b74ffa1>\u001b[0m in \u001b[0;36mrun_snle\u001b[0;34m(task_name, seed)\u001b[0m\n\u001b[1;32m      8\u001b[0m     \u001b[0mprint\u001b[0m\u001b[0;34m(\u001b[0m\u001b[0;34mf\"Elapsed time: {elapsed_time}\"\u001b[0m\u001b[0;34m)\u001b[0m\u001b[0;34m\u001b[0m\u001b[0;34m\u001b[0m\u001b[0m\n\u001b[1;32m      9\u001b[0m     \u001b[0mnp\u001b[0m\u001b[0;34m.\u001b[0m\u001b[0msavetxt\u001b[0m\u001b[0;34m(\u001b[0m\u001b[0;34mf\"./samples/{task_name}_snle.txt\"\u001b[0m\u001b[0;34m,\u001b[0m \u001b[0mposterior_samples\u001b[0m\u001b[0;34m.\u001b[0m\u001b[0mnumpy\u001b[0m\u001b[0;34m(\u001b[0m\u001b[0;34m)\u001b[0m\u001b[0;34m,\u001b[0m \u001b[0mdelimiter\u001b[0m \u001b[0;34m=\u001b[0m \u001b[0;34m\"\\t\"\u001b[0m\u001b[0;34m)\u001b[0m\u001b[0;34m\u001b[0m\u001b[0;34m\u001b[0m\u001b[0m\n\u001b[0;32m---> 10\u001b[0;31m     \u001b[0mresults\u001b[0m\u001b[0;34m[\u001b[0m\u001b[0;34m\"tasks\"\u001b[0m\u001b[0;34m]\u001b[0m \u001b[0;34m=\u001b[0m \u001b[0mtask_name\u001b[0m\u001b[0;34m\u001b[0m\u001b[0;34m\u001b[0m\u001b[0m\n\u001b[0m\u001b[1;32m     11\u001b[0m     \u001b[0mresults\u001b[0m\u001b[0;34m[\u001b[0m\u001b[0;34m\"run_times\"\u001b[0m\u001b[0;34m]\u001b[0m \u001b[0;34m=\u001b[0m \u001b[0melapsed_time\u001b[0m\u001b[0;34m\u001b[0m\u001b[0;34m\u001b[0m\u001b[0m\n\u001b[1;32m     12\u001b[0m     \u001b[0;32mreturn\u001b[0m \u001b[0mresults\u001b[0m\u001b[0;34m\u001b[0m\u001b[0;34m\u001b[0m\u001b[0m\n",
      "\u001b[0;31mNameError\u001b[0m: name 'results' is not defined"
     ]
    },
    {
     "name": "stderr",
     "output_type": "stream",
     "text": [
      "100%|██████████| 26000/26000 [01:59<00:00, 17.91it/s]"
     ]
    }
   ],
   "source": [
    "results = run_snle(task_names[i], i)"
   ]
  },
  {
   "cell_type": "code",
   "execution_count": null,
   "id": "7907649f-62b2-4b36-8839-0c8e477a7c71",
   "metadata": {},
   "outputs": [],
   "source": [
    "w = csv.writer(open(results_path, mode))\n",
    "for key, val in results.items():\n",
    "    w.writerow([key, val])"
   ]
  },
  {
   "cell_type": "markdown",
   "id": "8d073a74",
   "metadata": {},
   "source": [
    "## Reprex"
   ]
  },
  {
   "cell_type": "code",
   "execution_count": 8,
   "id": "f6f88da0",
   "metadata": {},
   "outputs": [],
   "source": [
    "#import sbibm\n",
    "#from sbibm.algorithms import snle\n",
    "#\n",
    "#task = sbibm.get_task(\"gaussian_linear_uniform\")    \n",
    "#posterior_samples, _, _ = snle(task=task, num_samples=100, num_observation=1, num_simulations=1000)"
   ]
  }
 ],
 "metadata": {
  "kernelspec": {
   "display_name": "Python 3",
   "language": "python",
   "name": "python3"
  },
  "language_info": {
   "codemirror_mode": {
    "name": "ipython",
    "version": 3
   },
   "file_extension": ".py",
   "mimetype": "text/x-python",
   "name": "python",
   "nbconvert_exporter": "python",
   "pygments_lexer": "ipython3",
   "version": "3.9.4"
  }
 },
 "nbformat": 4,
 "nbformat_minor": 5
}
