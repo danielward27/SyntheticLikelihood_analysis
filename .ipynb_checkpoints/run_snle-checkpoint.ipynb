{
 "cells": [
  {
   "cell_type": "markdown",
   "id": "41de5259",
   "metadata": {},
   "source": [
    "## Run SNLE on the tasks\n",
    "I had some issues running this. It seems there is a bug which causes the second algorithm to fail (perhaps sbibm mutates something it shouldn't??). It works if you restart the kernel before running each algorithm, hence the goofy code to make that more convenient..."
   ]
  },
  {
   "cell_type": "markdown",
   "id": "deca70c2",
   "metadata": {},
   "source": [
    "### Imports"
   ]
  },
  {
   "cell_type": "code",
   "execution_count": 1,
   "id": "3bec5e87",
   "metadata": {},
   "outputs": [],
   "source": [
    "import sbibm\n",
    "from sbibm.algorithms import snle\n",
    "import time\n",
    "import numpy as np\n",
    "import pandas as pd\n",
    "import os.path\n",
    "import csv\n"
   ]
  },
  {
   "cell_type": "code",
   "execution_count": 2,
   "id": "fe957982-ab21-4edc-b2ee-d6265422da1c",
   "metadata": {},
   "outputs": [],
   "source": [
    "i = 4\n",
    "results_path = \"results/snlp.csv\"\n"
   ]
  },
  {
   "cell_type": "markdown",
   "id": "a4b841ed",
   "metadata": {},
   "source": [
    "## Run SNLE"
   ]
  },
  {
   "cell_type": "code",
   "execution_count": 3,
   "id": "996b4ab7",
   "metadata": {},
   "outputs": [],
   "source": [
    "n_sim = 100_000\n",
    "n_samples = 3000\n",
    "task_names = [\"gaussian_linear\", \"gaussian_linear_uniform\", \"bernoulli_glm\", \"gaussian_mixture\", \"sir\"]"
   ]
  },
  {
   "cell_type": "code",
   "execution_count": 4,
   "id": "1ae42b5e-bb52-40bd-89a0-bea079754407",
   "metadata": {},
   "outputs": [],
   "source": [
    "def run_snle(task_name, seed = 1):\n",
    "    np.random.seed(seed)\n",
    "    print(f\"Running task {task_name}\")\n",
    "    task = sbibm.get_task(task_name)\n",
    "    start_time = time.time()\n",
    "    posterior_samples, _, _ = snle(task=task, num_samples=n_samples, num_observation=1, num_simulations=n_sim)\n",
    "    elapsed_time = time.time() - start_time\n",
    "    print(f\"Elapsed time: {elapsed_time}\")\n",
    "    np.savetxt(f\"./samples/{task_name}_snle.txt\", posterior_samples.numpy(), delimiter = \"\\t\")\n",
    "    results = {}\n",
    "    results[\"tasks\"] = task_name\n",
    "    results[\"run_times\"] = elapsed_time\n",
    "    return results\n"
   ]
  },
  {
   "cell_type": "code",
   "execution_count": 5,
   "id": "7ee78035-3c18-4998-96ef-18c30a5df5a6",
   "metadata": {
    "tags": []
   },
   "outputs": [
    {
     "name": "stdout",
     "output_type": "stream",
     "text": [
      "Running task gaussian_mixture\n"
     ]
    },
    {
     "data": {
      "application/vnd.jupyter.widget-view+json": {
       "model_id": "68365c973e454062bee9c45d2781b52c",
       "version_major": 2,
       "version_minor": 0
      },
      "text/plain": [
       "Running 10000 simulations.:   0%|          | 0/10000 [00:00<?, ?it/s]"
      ]
     },
     "metadata": {},
     "output_type": "display_data"
    },
    {
     "name": "stdout",
     "output_type": "stream",
     "text": [
      "Neural network successfully converged after 491 epochs.\n",
      "\n",
      "        -------------------------\n",
      "        ||||| ROUND 1 STATS |||||:\n",
      "        -------------------------\n",
      "        Epochs trained: 491\n",
      "        Best validation performance: -1.3506\n",
      "        -------------------------\n",
      "        \n"
     ]
    },
    {
     "name": "stderr",
     "output_type": "stream",
     "text": [
      "  0%|          | 0/125000 [00:00<?, ?it/s]"
     ]
    },
    {
     "name": "stdout",
     "output_type": "stream",
     "text": [
      "Generating MCMC samples\n"
     ]
    },
    {
     "name": "stderr",
     "output_type": "stream",
     "text": [
      "100%|██████████| 125000/125000 [03:44<00:00, 15.26it/s] "
     ]
    },
    {
     "data": {
      "application/vnd.jupyter.widget-view+json": {
       "model_id": "b633a98b7af6422085c18cad81e97714",
       "version_major": 2,
       "version_minor": 0
      },
      "text/plain": [
       "Running 10000 simulations.:   0%|          | 0/10000 [00:00<?, ?it/s]"
      ]
     },
     "metadata": {},
     "output_type": "display_data"
    },
    {
     "name": "stderr",
     "output_type": "stream",
     "text": [
      "100%|██████████| 125000/125000 [03:44<00:00, 556.41it/s]\n"
     ]
    },
    {
     "name": "stdout",
     "output_type": "stream",
     "text": [
      "Neural network successfully converged after 225 epochs.\n",
      "\n",
      "        -------------------------\n",
      "        ||||| ROUND 2 STATS |||||:\n",
      "        -------------------------\n",
      "        Epochs trained: 225\n",
      "        Best validation performance: -1.3860\n",
      "        -------------------------\n",
      "        \n"
     ]
    },
    {
     "name": "stderr",
     "output_type": "stream",
     "text": [
      "  0%|          | 0/125000 [00:00<?, ?it/s]"
     ]
    },
    {
     "name": "stdout",
     "output_type": "stream",
     "text": [
      "Generating MCMC samples\n"
     ]
    },
    {
     "name": "stderr",
     "output_type": "stream",
     "text": [
      "100%|██████████| 125000/125000 [03:06<00:00, 31.76it/s]  "
     ]
    },
    {
     "data": {
      "application/vnd.jupyter.widget-view+json": {
       "model_id": "9e0e0b0b636a4f74bfaa8a9c37025206",
       "version_major": 2,
       "version_minor": 0
      },
      "text/plain": [
       "Running 10000 simulations.:   0%|          | 0/10000 [00:00<?, ?it/s]"
      ]
     },
     "metadata": {},
     "output_type": "display_data"
    },
    {
     "name": "stderr",
     "output_type": "stream",
     "text": [
      "100%|██████████| 125000/125000 [03:07<00:00, 665.28it/s]\n"
     ]
    },
    {
     "name": "stdout",
     "output_type": "stream",
     "text": [
      "Neural network successfully converged after 125 epochs.\n",
      "\n",
      "        -------------------------\n",
      "        ||||| ROUND 3 STATS |||||:\n",
      "        -------------------------\n",
      "        Epochs trained: 125\n",
      "        Best validation performance: -1.7617\n",
      "        -------------------------\n",
      "        \n"
     ]
    },
    {
     "name": "stderr",
     "output_type": "stream",
     "text": [
      "  0%|          | 0/125000 [00:00<?, ?it/s]"
     ]
    },
    {
     "name": "stdout",
     "output_type": "stream",
     "text": [
      "Generating MCMC samples\n"
     ]
    },
    {
     "name": "stderr",
     "output_type": "stream",
     "text": [
      "100%|█████████▉| 124990/125000 [01:29<00:00, 96.17it/s]  "
     ]
    },
    {
     "data": {
      "application/vnd.jupyter.widget-view+json": {
       "model_id": "e8314af0b24842b685bf2db5494bc6ba",
       "version_major": 2,
       "version_minor": 0
      },
      "text/plain": [
       "Running 10000 simulations.:   0%|          | 0/10000 [00:00<?, ?it/s]"
      ]
     },
     "metadata": {},
     "output_type": "display_data"
    },
    {
     "name": "stderr",
     "output_type": "stream",
     "text": [
      "100%|██████████| 125000/125000 [01:30<00:00, 1386.85it/s]\n"
     ]
    },
    {
     "name": "stdout",
     "output_type": "stream",
     "text": [
      "Neural network successfully converged after 81 epochs.\n",
      "\n",
      "        -------------------------\n",
      "        ||||| ROUND 4 STATS |||||:\n",
      "        -------------------------\n",
      "        Epochs trained: 81\n",
      "        Best validation performance: -1.4758\n",
      "        -------------------------\n",
      "        \n"
     ]
    },
    {
     "name": "stderr",
     "output_type": "stream",
     "text": [
      "  0%|          | 0/125000 [00:00<?, ?it/s]"
     ]
    },
    {
     "name": "stdout",
     "output_type": "stream",
     "text": [
      "Generating MCMC samples\n"
     ]
    },
    {
     "name": "stderr",
     "output_type": "stream",
     "text": [
      "100%|█████████▉| 124990/125000 [01:24<00:00, 92.46it/s]  "
     ]
    },
    {
     "data": {
      "application/vnd.jupyter.widget-view+json": {
       "model_id": "4fe1429325074e2faf1b99edf643d2f5",
       "version_major": 2,
       "version_minor": 0
      },
      "text/plain": [
       "Running 10000 simulations.:   0%|          | 0/10000 [00:00<?, ?it/s]"
      ]
     },
     "metadata": {},
     "output_type": "display_data"
    },
    {
     "name": "stderr",
     "output_type": "stream",
     "text": [
      "100%|██████████| 125000/125000 [01:25<00:00, 1457.73it/s]\n"
     ]
    },
    {
     "name": "stdout",
     "output_type": "stream",
     "text": [
      "Neural network successfully converged after 41 epochs.\n",
      "\n",
      "        -------------------------\n",
      "        ||||| ROUND 5 STATS |||||:\n",
      "        -------------------------\n",
      "        Epochs trained: 41\n",
      "        Best validation performance: -1.7552\n",
      "        -------------------------\n",
      "        \n"
     ]
    },
    {
     "name": "stderr",
     "output_type": "stream",
     "text": [
      "  0%|          | 0/125000 [00:00<?, ?it/s]"
     ]
    },
    {
     "name": "stdout",
     "output_type": "stream",
     "text": [
      "Generating MCMC samples\n"
     ]
    },
    {
     "name": "stderr",
     "output_type": "stream",
     "text": [
      "100%|█████████▉| 124990/125000 [01:25<00:00, 104.67it/s] "
     ]
    },
    {
     "data": {
      "application/vnd.jupyter.widget-view+json": {
       "model_id": "e06e19c32f974e4fa74be4927d71fa24",
       "version_major": 2,
       "version_minor": 0
      },
      "text/plain": [
       "Running 10000 simulations.:   0%|          | 0/10000 [00:00<?, ?it/s]"
      ]
     },
     "metadata": {},
     "output_type": "display_data"
    },
    {
     "name": "stderr",
     "output_type": "stream",
     "text": [
      "100%|██████████| 125000/125000 [01:26<00:00, 1450.13it/s]\n"
     ]
    },
    {
     "name": "stdout",
     "output_type": "stream",
     "text": [
      "Neural network successfully converged after 35 epochs.\n",
      "\n",
      "        -------------------------\n",
      "        ||||| ROUND 6 STATS |||||:\n",
      "        -------------------------\n",
      "        Epochs trained: 35\n",
      "        Best validation performance: -1.6129\n",
      "        -------------------------\n",
      "        \n"
     ]
    },
    {
     "name": "stderr",
     "output_type": "stream",
     "text": [
      "  0%|          | 0/125000 [00:00<?, ?it/s]"
     ]
    },
    {
     "name": "stdout",
     "output_type": "stream",
     "text": [
      "Generating MCMC samples\n"
     ]
    },
    {
     "name": "stderr",
     "output_type": "stream",
     "text": [
      "100%|█████████▉| 124990/125000 [01:36<00:00, 67.22it/s]  "
     ]
    },
    {
     "data": {
      "application/vnd.jupyter.widget-view+json": {
       "model_id": "e5e89726ac8747ffb7979a7f99be80a8",
       "version_major": 2,
       "version_minor": 0
      },
      "text/plain": [
       "Running 10000 simulations.:   0%|          | 0/10000 [00:00<?, ?it/s]"
      ]
     },
     "metadata": {},
     "output_type": "display_data"
    },
    {
     "name": "stderr",
     "output_type": "stream",
     "text": [
      "100%|██████████| 125000/125000 [01:37<00:00, 1279.94it/s]\n"
     ]
    },
    {
     "name": "stdout",
     "output_type": "stream",
     "text": [
      "Neural network successfully converged after 90 epochs.\n",
      "\n",
      "        -------------------------\n",
      "        ||||| ROUND 7 STATS |||||:\n",
      "        -------------------------\n",
      "        Epochs trained: 90\n",
      "        Best validation performance: -1.4746\n",
      "        -------------------------\n",
      "        \n"
     ]
    },
    {
     "name": "stderr",
     "output_type": "stream",
     "text": [
      "  0%|          | 0/125000 [00:00<?, ?it/s]"
     ]
    },
    {
     "name": "stdout",
     "output_type": "stream",
     "text": [
      "Generating MCMC samples\n"
     ]
    },
    {
     "name": "stderr",
     "output_type": "stream",
     "text": [
      "100%|█████████▉| 124990/125000 [01:40<00:00, 98.12it/s]  "
     ]
    },
    {
     "data": {
      "application/vnd.jupyter.widget-view+json": {
       "model_id": "eb7ed6b62b1e45e4a563e9c3594d8a7d",
       "version_major": 2,
       "version_minor": 0
      },
      "text/plain": [
       "Running 10000 simulations.:   0%|          | 0/10000 [00:00<?, ?it/s]"
      ]
     },
     "metadata": {},
     "output_type": "display_data"
    },
    {
     "name": "stderr",
     "output_type": "stream",
     "text": [
      "100%|██████████| 125000/125000 [01:41<00:00, 1229.59it/s]\n"
     ]
    },
    {
     "name": "stdout",
     "output_type": "stream",
     "text": [
      "Neural network successfully converged after 32 epochs.\n",
      "\n",
      "        -------------------------\n",
      "        ||||| ROUND 8 STATS |||||:\n",
      "        -------------------------\n",
      "        Epochs trained: 32\n",
      "        Best validation performance: -1.5107\n",
      "        -------------------------\n",
      "        \n"
     ]
    },
    {
     "name": "stderr",
     "output_type": "stream",
     "text": [
      "  0%|          | 0/125000 [00:00<?, ?it/s]"
     ]
    },
    {
     "name": "stdout",
     "output_type": "stream",
     "text": [
      "Generating MCMC samples\n"
     ]
    },
    {
     "name": "stderr",
     "output_type": "stream",
     "text": [
      "100%|██████████| 125000/125000 [01:42<00:00, 73.96it/s]  "
     ]
    },
    {
     "data": {
      "application/vnd.jupyter.widget-view+json": {
       "model_id": "aa846d2b59974ce297c5937236e5e6e1",
       "version_major": 2,
       "version_minor": 0
      },
      "text/plain": [
       "Running 10000 simulations.:   0%|          | 0/10000 [00:00<?, ?it/s]"
      ]
     },
     "metadata": {},
     "output_type": "display_data"
    },
    {
     "name": "stderr",
     "output_type": "stream",
     "text": [
      "100%|██████████| 125000/125000 [01:44<00:00, 1201.40it/s]\n"
     ]
    },
    {
     "name": "stdout",
     "output_type": "stream",
     "text": [
      "Neural network successfully converged after 29 epochs.\n",
      "\n",
      "        -------------------------\n",
      "        ||||| ROUND 9 STATS |||||:\n",
      "        -------------------------\n",
      "        Epochs trained: 29\n",
      "        Best validation performance: -1.5191\n",
      "        -------------------------\n",
      "        \n"
     ]
    },
    {
     "name": "stderr",
     "output_type": "stream",
     "text": [
      "  0%|          | 0/125000 [00:00<?, ?it/s]"
     ]
    },
    {
     "name": "stdout",
     "output_type": "stream",
     "text": [
      "Generating MCMC samples\n"
     ]
    },
    {
     "name": "stderr",
     "output_type": "stream",
     "text": [
      "100%|██████████| 125000/125000 [01:37<00:00, 32.97it/s]  "
     ]
    },
    {
     "data": {
      "application/vnd.jupyter.widget-view+json": {
       "model_id": "a0ba05349c0d4b6db938cc870f4c4922",
       "version_major": 2,
       "version_minor": 0
      },
      "text/plain": [
       "Running 10000 simulations.:   0%|          | 0/10000 [00:00<?, ?it/s]"
      ]
     },
     "metadata": {},
     "output_type": "display_data"
    },
    {
     "name": "stderr",
     "output_type": "stream",
     "text": [
      "100%|██████████| 125000/125000 [01:38<00:00, 1270.36it/s]\n"
     ]
    },
    {
     "name": "stdout",
     "output_type": "stream",
     "text": [
      "Neural network successfully converged after 56 epochs.\n",
      "\n",
      "        -------------------------\n",
      "        ||||| ROUND 10 STATS |||||:\n",
      "        -------------------------\n",
      "        Epochs trained: 56\n",
      "        Best validation performance: -1.4841\n",
      "        -------------------------\n",
      "        \n"
     ]
    },
    {
     "name": "stderr",
     "output_type": "stream",
     "text": [
      "  0%|          | 0/55000 [00:00<?, ?it/s]"
     ]
    },
    {
     "name": "stdout",
     "output_type": "stream",
     "text": [
      "Generating MCMC samples\n"
     ]
    },
    {
     "name": "stderr",
     "output_type": "stream",
     "text": [
      "100%|██████████| 55000/55000 [00:48<00:00, 69.64it/s]  "
     ]
    },
    {
     "name": "stdout",
     "output_type": "stream",
     "text": [
      "Elapsed time: 3111.6214928627014\n"
     ]
    }
   ],
   "source": [
    "results = run_snle(task_names[i], i)"
   ]
  },
  {
   "cell_type": "code",
   "execution_count": 6,
   "id": "059f5131-8323-4164-a586-e468f5a5b0e7",
   "metadata": {},
   "outputs": [],
   "source": [
    "if os.path.isfile(results_path):\n",
    "    mode = \"a\"\n",
    "else:\n",
    "    mode = \"w+\"\n",
    "\n",
    "with open(results_path, mode, newline='') as f:\n",
    "    writer = csv.writer(f, quoting=csv.QUOTE_ALL)\n",
    "    writer.writerow(results.values())\n"
   ]
  },
  {
   "cell_type": "markdown",
   "id": "8d073a74",
   "metadata": {},
   "source": [
    "## Reprex"
   ]
  },
  {
   "cell_type": "code",
   "execution_count": 7,
   "id": "f6f88da0",
   "metadata": {},
   "outputs": [
    {
     "name": "stderr",
     "output_type": "stream",
     "text": [
      "100%|██████████| 55000/55000 [01:01<00:00, 69.64it/s]"
     ]
    }
   ],
   "source": [
    "#import sbibm\n",
    "#from sbibm.algorithms import snle\n",
    "#\n",
    "#task = sbibm.get_task(\"gaussian_linear_uniform\")    \n",
    "#posterior_samples, _, _ = snle(task=task, num_samples=100, num_observation=1, num_simulations=1000)"
   ]
  }
 ],
 "metadata": {
  "kernelspec": {
   "display_name": "Python 3",
   "language": "python",
   "name": "python3"
  },
  "language_info": {
   "codemirror_mode": {
    "name": "ipython",
    "version": 3
   },
   "file_extension": ".py",
   "mimetype": "text/x-python",
   "name": "python",
   "nbconvert_exporter": "python",
   "pygments_lexer": "ipython3",
   "version": "3.9.4"
  }
 },
 "nbformat": 4,
 "nbformat_minor": 5
}
