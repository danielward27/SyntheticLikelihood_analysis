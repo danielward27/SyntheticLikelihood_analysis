{
 "cells": [
  {
   "cell_type": "markdown",
   "id": "bdc456c3-26e6-4bd0-8ef0-8236f9da3cf5",
   "metadata": {},
   "source": [
    "### Run times\n",
    "We can use a simple multivariate normal example to compare the run times for different dimension summary statistics and different dimension of parameters, because the run time of the simulator is negligable."
   ]
  },
  {
   "cell_type": "markdown",
   "id": "a17e8356-2f15-4fbb-8075-bc3ae981f0fb",
   "metadata": {},
   "source": [
    "## Imports"
   ]
  },
  {
   "cell_type": "code",
   "execution_count": 197,
   "id": "3bf44f90-a368-4572-a8c9-1ec12b02541e",
   "metadata": {},
   "outputs": [],
   "source": [
    "using Pkg\n",
    "using SyntheticLikelihood\n",
    "using Distributions\n",
    "using BenchmarkTools\n",
    "using DataFrames\n",
    "using CSV"
   ]
  },
  {
   "cell_type": "markdown",
   "id": "f0957c6f-b577-417a-b6a7-1a7489cf83ff",
   "metadata": {},
   "source": [
    "## How it scales with summary statistics\n",
    "Keeping the parameters 10 dimensional, we can draw more random samples to get more summary statistics."
   ]
  },
  {
   "cell_type": "code",
   "execution_count": 198,
   "id": "8b056e2c-3012-4eaa-933c-45a622e8a47d",
   "metadata": {},
   "outputs": [],
   "source": [
    "d = 10\n",
    "prior = Prior(fill(Uniform(-1,1), d))\n",
    "draws = [1, 2, 3, 4, 5];"
   ]
  },
  {
   "cell_type": "markdown",
   "id": "d27454c2-29da-40cf-9817-b8a2e3450d87",
   "metadata": {},
   "source": [
    "### Loop through and get results"
   ]
  },
  {
   "cell_type": "code",
   "execution_count": 199,
   "id": "0bc6a7f6-bd30-46c0-8fdd-f079fbfb1cdf",
   "metadata": {},
   "outputs": [
    {
     "name": "stderr",
     "output_type": "stream",
     "text": [
      "\u001b[32mProgress: 100%|█████████████████████████████████████████| Time: 0:00:00\u001b[39m\n",
      "\u001b[32mProgress: 100%|█████████████████████████████████████████| Time: 0:00:28\u001b[39m\n",
      "\u001b[32mProgress: 100%|█████████████████████████████████████████| Time: 0:00:24\u001b[39m\n",
      "\u001b[32mProgress: 100%|█████████████████████████████████████████| Time: 0:00:21\u001b[39m\n",
      "\u001b[32mProgress: 100%|█████████████████████████████████████████| Time: 0:00:01\u001b[39m\n",
      "\u001b[32mProgress: 100%|█████████████████████████████████████████| Time: 0:00:35\u001b[39m\n",
      "\u001b[32mProgress: 100%|█████████████████████████████████████████| Time: 0:00:38\u001b[39m\n",
      "\u001b[32mProgress: 100%|█████████████████████████████████████████| Time: 0:00:39\u001b[39m\n",
      "\u001b[32mProgress: 100%|█████████████████████████████████████████| Time: 0:00:00\u001b[39m\n",
      "\u001b[32mProgress: 100%|█████████████████████████████████████████| Time: 0:00:00\u001b[39m\n",
      "\u001b[32mProgress: 100%|█████████████████████████████████████████| Time: 0:00:00\u001b[39m\n",
      "\u001b[32mProgress: 100%|█████████████████████████████████████████| Time: 0:00:01\u001b[39m\n",
      "\u001b[32mProgress: 100%|█████████████████████████████████████████| Time: 0:00:56\u001b[39m\n",
      "\u001b[32mProgress: 100%|█████████████████████████████████████████| Time: 0:01:05\u001b[39m\n",
      "\u001b[32mProgress: 100%|█████████████████████████████████████████| Time: 0:00:53\u001b[39m\n",
      "\u001b[32mProgress: 100%|█████████████████████████████████████████| Time: 0:00:00\u001b[39m\n",
      "\u001b[32mProgress: 100%|█████████████████████████████████████████| Time: 0:00:00\u001b[39m\n",
      "\u001b[32mProgress: 100%|█████████████████████████████████████████| Time: 0:00:00\u001b[39m\n",
      "\u001b[32mProgress: 100%|█████████████████████████████████████████| Time: 0:00:01\u001b[39m\n",
      "\u001b[32mProgress: 100%|█████████████████████████████████████████| Time: 0:01:10\u001b[39m\n",
      "\u001b[32mProgress: 100%|█████████████████████████████████████████| Time: 0:01:06\u001b[39m\n",
      "\u001b[32mProgress: 100%|█████████████████████████████████████████| Time: 0:01:04\u001b[39m\n",
      "\u001b[32mProgress: 100%|█████████████████████████████████████████| Time: 0:00:00\u001b[39m\n",
      "\u001b[32mProgress: 100%|█████████████████████████████████████████| Time: 0:00:00\u001b[39m\n",
      "\u001b[32mProgress: 100%|█████████████████████████████████████████| Time: 0:00:00\u001b[39m\n",
      "\u001b[32mProgress: 100%|█████████████████████████████████████████| Time: 0:00:02\u001b[39m\n",
      "\u001b[32mProgress: 100%|█████████████████████████████████████████| Time: 0:01:21\u001b[39m\n",
      "\u001b[32mProgress: 100%|█████████████████████████████████████████| Time: 0:01:16\u001b[39m\n",
      "\u001b[32mProgress: 100%|█████████████████████████████████████████| Time: 0:01:29\u001b[39m\n",
      "\u001b[32mProgress: 100%|█████████████████████████████████████████| Time: 0:00:01\u001b[39m\n",
      "\u001b[32mProgress: 100%|█████████████████████████████████████████| Time: 0:00:01\u001b[39m\n",
      "\u001b[32mProgress: 100%|█████████████████████████████████████████| Time: 0:00:01\u001b[39m\n"
     ]
    }
   ],
   "source": [
    "n_sum_stats = []\n",
    "rula_times = []\n",
    "rwm_times = []\n",
    "\n",
    "for n_draws in draws\n",
    "    \n",
    "    # Define the simulator\n",
    "    function simulator(θ::Vector{Float64})\n",
    "        @assert length(θ) == 10\n",
    "        d = MvNormal(θ, sqrt(0.1))\n",
    "        s = rand(d, n_draws)\n",
    "        reshape(s, length(s))\n",
    "    end\n",
    "    \n",
    "    θ_true = sample_θ(prior)\n",
    "    s_true = simulator(θ_true)\n",
    "    \n",
    "    local_posterior = LocalPosterior(; simulator, s_true, n_sim = 1000, prior)\n",
    "    basic_posterior = BasicPosterior(; simulator, s_true, n_sim = 1000, prior)\n",
    "\n",
    "    rula = RiemannianULA(0.5)\n",
    "    rwm = RWMetropolis(MvNormal(fill(sqrt(0.1), d)))\n",
    "    \n",
    "    # Warm up samplers so compiled\n",
    "    run_sampler!(rula, local_posterior; init_θ = θ_true, n_steps = 3)  \n",
    "    run_sampler!(rwm, basic_posterior; init_θ = θ_true, n_steps = 3)  \n",
    "    \n",
    "    append!(n_sum_stats, d*n_draws)\n",
    "    append!(rula_times, mean([@elapsed run_sampler!(rula, local_posterior; init_θ = θ_true, n_steps = 100) for rep in 1:3]))\n",
    "    append!(rwm_times, mean([@elapsed run_sampler!(rwm, basic_posterior; init_θ = θ_true, n_steps = 100) for rep in 1:3]))\n",
    "end"
   ]
  },
  {
   "cell_type": "code",
   "execution_count": 200,
   "id": "f04dc79d-d8ac-4dda-8f2f-526bd7781e1a",
   "metadata": {},
   "outputs": [
    {
     "data": {
      "text/html": [
       "<table class=\"data-frame\"><thead><tr><th></th><th>n_sum_stats</th><th>rula_time_per_step</th><th>rwm_time_per_step</th></tr><tr><th></th><th>Any</th><th>Float64</th><th>Float64</th></tr></thead><tbody><p>5 rows × 3 columns</p><tr><th>1</th><td>10</td><td>0.251984</td><td>0.000364797</td></tr><tr><th>2</th><td>20</td><td>0.38306</td><td>0.00130184</td></tr><tr><th>3</th><td>30</td><td>0.587958</td><td>0.00140777</td></tr><tr><th>4</th><td>40</td><td>0.679676</td><td>0.00810087</td></tr><tr><th>5</th><td>50</td><td>0.834216</td><td>0.0136643</td></tr></tbody></table>"
      ],
      "text/latex": [
       "\\begin{tabular}{r|ccc}\n",
       "\t& n\\_sum\\_stats & rula\\_time\\_per\\_step & rwm\\_time\\_per\\_step\\\\\n",
       "\t\\hline\n",
       "\t& Any & Float64 & Float64\\\\\n",
       "\t\\hline\n",
       "\t1 & 10 & 0.251984 & 0.000364797 \\\\\n",
       "\t2 & 20 & 0.38306 & 0.00130184 \\\\\n",
       "\t3 & 30 & 0.587958 & 0.00140777 \\\\\n",
       "\t4 & 40 & 0.679676 & 0.00810087 \\\\\n",
       "\t5 & 50 & 0.834216 & 0.0136643 \\\\\n",
       "\\end{tabular}\n"
      ],
      "text/plain": [
       "\u001b[1m5×3 DataFrame\u001b[0m\n",
       "\u001b[1m Row \u001b[0m│\u001b[1m n_sum_stats \u001b[0m\u001b[1m rula_time_per_step \u001b[0m\u001b[1m rwm_time_per_step \u001b[0m\n",
       "\u001b[1m     \u001b[0m│\u001b[90m Any         \u001b[0m\u001b[90m Float64            \u001b[0m\u001b[90m Float64           \u001b[0m\n",
       "─────┼────────────────────────────────────────────────────\n",
       "   1 │ 10                     0.251984        0.000364797\n",
       "   2 │ 20                     0.38306         0.00130184\n",
       "   3 │ 30                     0.587958        0.00140777\n",
       "   4 │ 40                     0.679676        0.00810087\n",
       "   5 │ 50                     0.834216        0.0136643"
      ]
     },
     "execution_count": 200,
     "metadata": {},
     "output_type": "execute_result"
    }
   ],
   "source": [
    "sum_stat_times_df = DataFrame(n_sum_stats=n_sum_stats, rula_time_per_step = rula_times./100, rwm_time_per_step=rwm_times./100)"
   ]
  },
  {
   "cell_type": "code",
   "execution_count": 201,
   "id": "73d1b98c-dacf-4939-ba4d-c41d74e5ebf8",
   "metadata": {},
   "outputs": [
    {
     "data": {
      "text/plain": [
       "\"results/mvn_times_sum_stats.csv\""
      ]
     },
     "execution_count": 201,
     "metadata": {},
     "output_type": "execute_result"
    }
   ],
   "source": [
    "CSV.write(\"results/mvn_times_sum_stats.csv\", sum_stat_times_df)"
   ]
  },
  {
   "cell_type": "markdown",
   "id": "55dd352e-9bae-42d4-bdfb-9e5079ee4588",
   "metadata": {},
   "source": [
    "## Scaling with the number of parameters"
   ]
  },
  {
   "cell_type": "code",
   "execution_count": 202,
   "id": "7518e34d-f2c6-4e8b-b2e5-42fc1dc6da63",
   "metadata": {},
   "outputs": [],
   "source": [
    "ns = 10\n",
    "dimensions = [10, 20, 30, 40];"
   ]
  },
  {
   "cell_type": "code",
   "execution_count": 208,
   "id": "62ecd69d-90cf-4c17-bf14-bd5fb4731071",
   "metadata": {},
   "outputs": [
    {
     "data": {
      "text/plain": [
       "chunkify (generic function with 1 method)"
      ]
     },
     "execution_count": 208,
     "metadata": {},
     "output_type": "execute_result"
    }
   ],
   "source": [
    "function chunkify(A, n)\n",
    "    [A[i:min(i + n - 1, end)] for i in 1:n:length(A)]\n",
    "end"
   ]
  },
  {
   "cell_type": "code",
   "execution_count": 209,
   "id": "7b698895-993d-423c-a2ea-81bdbfe0ddcc",
   "metadata": {},
   "outputs": [
    {
     "name": "stderr",
     "output_type": "stream",
     "text": [
      "\u001b[32mProgress: 100%|█████████████████████████████████████████| Time: 0:00:00\u001b[39m\n",
      "\u001b[32mProgress: 100%|█████████████████████████████████████████| Time: 0:00:10\u001b[39m\n",
      "\u001b[32mProgress: 100%|█████████████████████████████████████████| Time: 0:00:18\u001b[39m\n",
      "\u001b[32mProgress: 100%|█████████████████████████████████████████| Time: 0:00:13\u001b[39m\n",
      "\u001b[32mProgress: 100%|█████████████████████████████████████████| Time: 0:00:00\u001b[39m\n",
      "\u001b[32mProgress: 100%|█████████████████████████████████████████| Time: 0:00:00\u001b[39m\n",
      "\u001b[32mProgress: 100%|█████████████████████████████████████████| Time: 0:00:00\u001b[39m\n",
      "\u001b[32mProgress: 100%|█████████████████████████████████████████| Time: 0:00:03\u001b[39m\n",
      "\u001b[32mProgress: 100%|█████████████████████████████████████████| Time: 0:00:31\u001b[39m\n",
      "\u001b[32mProgress: 100%|█████████████████████████████████████████| Time: 0:00:49\u001b[39m\n",
      "\u001b[32mProgress: 100%|█████████████████████████████████████████| Time: 0:00:25\u001b[39m\n",
      "\u001b[32mProgress: 100%|█████████████████████████████████████████| Time: 0:00:00\u001b[39m\n",
      "\u001b[32mProgress: 100%|█████████████████████████████████████████| Time: 0:00:00\u001b[39m\n",
      "\u001b[32mProgress: 100%|█████████████████████████████████████████| Time: 0:00:00\u001b[39m\n",
      "\u001b[32mProgress: 100%|█████████████████████████████████████████| Time: 0:00:02\u001b[39m\n",
      "\u001b[32mProgress: 100%|█████████████████████████████████████████| Time: 0:01:57\u001b[39m\n",
      "\u001b[32mProgress: 100%|█████████████████████████████████████████| Time: 0:02:34\u001b[39m\n",
      "\u001b[32mProgress: 100%|█████████████████████████████████████████| Time: 0:03:02\u001b[39m\n",
      "\u001b[32mProgress: 100%|█████████████████████████████████████████| Time: 0:00:00\u001b[39m\n",
      "\u001b[32mProgress: 100%|█████████████████████████████████████████| Time: 0:00:00\u001b[39m\n",
      "\u001b[32mProgress: 100%|█████████████████████████████████████████| Time: 0:00:00\u001b[39m\n",
      "\u001b[32mProgress: 100%|█████████████████████████████████████████| Time: 0:00:11\u001b[39m\n",
      "\u001b[32mProgress: 100%|█████████████████████████████████████████| Time: 0:04:54\u001b[39m\n",
      "\u001b[32mProgress: 100%|█████████████████████████████████████████| Time: 0:02:49\u001b[39m\n",
      "\u001b[32mProgress: 100%|█████████████████████████████████████████| Time: 0:02:30\u001b[39m\n",
      "\u001b[32mProgress: 100%|█████████████████████████████████████████| Time: 0:00:00\u001b[39m\n",
      "\u001b[32mProgress: 100%|█████████████████████████████████████████| Time: 0:00:00\u001b[39m\n",
      "\u001b[32mProgress: 100%|█████████████████████████████████████████| Time: 0:00:00\u001b[39m\n"
     ]
    }
   ],
   "source": [
    "n_parameters = []\n",
    "rula_times = []\n",
    "rwm_times = []\n",
    "\n",
    "for nθ in dimensions\n",
    "    \n",
    "    prior = Prior(fill(Normal(), nθ))\n",
    "    \n",
    "    # Define the simulator\n",
    "    function simulator(θ::Vector{Float64})\n",
    "        @assert length(θ) == nθ\n",
    "        d = MvNormal(θ, sqrt(0.1))\n",
    "        s = rand(d)\n",
    "        \n",
    "        s_chunks = chunkify(s, Int(nθ/10))\n",
    "        s = mean.(s_chunks)\n",
    "        s\n",
    "    end\n",
    "    \n",
    "    θ_true = sample_θ(prior)\n",
    "    s_true = simulator(θ_true)\n",
    "    \n",
    "    local_posterior = LocalPosterior(; simulator, s_true, n_sim = 1000, prior)\n",
    "    basic_posterior = BasicPosterior(;simulator, s_true, n_sim = 1000, prior)\n",
    "    \n",
    "    rula = RiemannianULA(0.5)\n",
    "    rwm = RWMetropolis(MvNormal(fill(sqrt(0.1), nθ)))\n",
    "    \n",
    "    # Warm up samplers so compiled\n",
    "    run_sampler!(rula, local_posterior; init_θ = θ_true, n_steps = 3)  \n",
    "    run_sampler!(rwm, basic_posterior; init_θ = θ_true, n_steps = 3)  \n",
    "    \n",
    "    append!(n_parameters, nθ)\n",
    "    append!(rula_times, mean([@elapsed run_sampler!(rula, local_posterior; init_θ = θ_true, n_steps = 100) for rep in 1:3]))\n",
    "    append!(rwm_times, mean([@elapsed run_sampler!(rwm, basic_posterior; init_θ = θ_true, n_steps = 100) for rep in 1:3]))\n",
    "end"
   ]
  },
  {
   "cell_type": "code",
   "execution_count": 210,
   "id": "54c01c2b-faaa-4e42-8a4e-f8e2ef6e8e3d",
   "metadata": {},
   "outputs": [
    {
     "data": {
      "text/html": [
       "<table class=\"data-frame\"><thead><tr><th></th><th>n_parameters</th><th>rula_time_per_step</th><th>rwm_time_per_step</th></tr><tr><th></th><th>Any</th><th>Float64</th><th>Float64</th></tr></thead><tbody><p>4 rows × 3 columns</p><tr><th>1</th><td>10</td><td>0.139742</td><td>0.00360331</td></tr><tr><th>2</th><td>20</td><td>0.358513</td><td>0.00289465</td></tr><tr><th>3</th><td>30</td><td>1.52501</td><td>0.00437852</td></tr><tr><th>4</th><td>40</td><td>2.07087</td><td>0.00356408</td></tr></tbody></table>"
      ],
      "text/latex": [
       "\\begin{tabular}{r|ccc}\n",
       "\t& n\\_parameters & rula\\_time\\_per\\_step & rwm\\_time\\_per\\_step\\\\\n",
       "\t\\hline\n",
       "\t& Any & Float64 & Float64\\\\\n",
       "\t\\hline\n",
       "\t1 & 10 & 0.139742 & 0.00360331 \\\\\n",
       "\t2 & 20 & 0.358513 & 0.00289465 \\\\\n",
       "\t3 & 30 & 1.52501 & 0.00437852 \\\\\n",
       "\t4 & 40 & 2.07087 & 0.00356408 \\\\\n",
       "\\end{tabular}\n"
      ],
      "text/plain": [
       "\u001b[1m4×3 DataFrame\u001b[0m\n",
       "\u001b[1m Row \u001b[0m│\u001b[1m n_parameters \u001b[0m\u001b[1m rula_time_per_step \u001b[0m\u001b[1m rwm_time_per_step \u001b[0m\n",
       "\u001b[1m     \u001b[0m│\u001b[90m Any          \u001b[0m\u001b[90m Float64            \u001b[0m\u001b[90m Float64           \u001b[0m\n",
       "─────┼─────────────────────────────────────────────────────\n",
       "   1 │ 10                      0.139742         0.00360331\n",
       "   2 │ 20                      0.358513         0.00289465\n",
       "   3 │ 30                      1.52501          0.00437852\n",
       "   4 │ 40                      2.07087          0.00356408"
      ]
     },
     "execution_count": 210,
     "metadata": {},
     "output_type": "execute_result"
    }
   ],
   "source": [
    "θ_times_df = DataFrame(n_parameters=n_parameters, rula_time_per_step = rula_times./100, rwm_time_per_step=rwm_times./100)"
   ]
  },
  {
   "cell_type": "code",
   "execution_count": 211,
   "id": "8cd0236e-5d9f-4086-a20f-6c9bac285b5d",
   "metadata": {},
   "outputs": [
    {
     "data": {
      "text/plain": [
       "\"results/mvn_times_parameters.csv\""
      ]
     },
     "execution_count": 211,
     "metadata": {},
     "output_type": "execute_result"
    }
   ],
   "source": [
    "CSV.write(\"results/mvn_times_parameters.csv\", θ_times_df)"
   ]
  }
 ],
 "metadata": {
  "kernelspec": {
   "display_name": "Julia 1.6.0",
   "language": "julia",
   "name": "julia-1.6"
  },
  "language_info": {
   "file_extension": ".jl",
   "mimetype": "application/julia",
   "name": "julia",
   "version": "1.6.0"
  }
 },
 "nbformat": 4,
 "nbformat_minor": 5
}
