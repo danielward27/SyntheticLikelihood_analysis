{
 "cells": [
  {
   "cell_type": "markdown",
   "id": "66996f24",
   "metadata": {},
   "source": [
    "## Imports"
   ]
  },
  {
   "cell_type": "code",
   "execution_count": 4,
   "id": "41551150",
   "metadata": {},
   "outputs": [],
   "source": [
    "import numpy as np\n",
    "import pandas as pd\n",
    "import sbibm\n",
    "import torch\n",
    "import altair_saver\n",
    "import tensorflow_probability as tfp\n",
    "\n",
    "from sbibm.metrics import c2st\n",
    "from sbibm.visualisation import fig_posterior\n",
    "from sbibm.metrics import c2st"
   ]
  },
  {
   "cell_type": "markdown",
   "id": "299ca410",
   "metadata": {},
   "source": [
    "## Posterior plots"
   ]
  },
  {
   "cell_type": "code",
   "execution_count": 2,
   "id": "2db75e4c",
   "metadata": {},
   "outputs": [
    {
     "name": "stderr",
     "output_type": "stream",
     "text": [
      "/home/dw16200/miniconda3/envs/sbi_env/lib/python3.9/site-packages/diffeqtorch/diffeqtorch.py:29: UserWarning: JULIA_SYSIMAGE_DIFFEQTORCH not set\n",
      "  warn(\"JULIA_SYSIMAGE_DIFFEQTORCH not set\")\n"
     ]
    }
   ],
   "source": [
    "task_names = [\"gaussian_linear\", \"gaussian_linear_uniform\", \"gaussian_mixture\", \"sir\", \"bernoulli_glm\"]\n",
    "\n",
    "for task_name in task_names:\n",
    "    posterior_samples = torch.tensor(np.genfromtxt(f\"./samples/{task_name}_rula.txt\"))\n",
    "    n_params = posterior_samples.shape[1] \n",
    "    fig_size = 400-35*n_params\n",
    "    scatter_size = 3.5+0.05*n_params\n",
    "    \n",
    "    fig = fig_posterior(\n",
    "        task_name=task_name,\n",
    "        observation=1,\n",
    "        samples_tensor = posterior_samples,\n",
    "        num_samples = posterior_samples.shape[0],\n",
    "        config = \"streamlit\",\n",
    "        height = fig_size,\n",
    "        width = fig_size,\n",
    "        scatter_size = scatter_size\n",
    "    )\n",
    "    altair_saver.save(fig, f\"./plots/{task_name}_rula.html\")\n",
    "\n",
    "    "
   ]
  },
  {
   "cell_type": "markdown",
   "id": "1a100729",
   "metadata": {},
   "source": [
    "## C2ST Accuracy"
   ]
  },
  {
   "cell_type": "code",
   "execution_count": 3,
   "id": "2147f21b",
   "metadata": {},
   "outputs": [
    {
     "name": "stdout",
     "output_type": "stream",
     "text": [
      "gaussian_linear\n",
      "gaussian_linear_uniform\n",
      "gaussian_mixture\n",
      "two_moons\n",
      "slcp\n",
      "slcp_distractors\n",
      "sir\n"
     ]
    },
    {
     "data": {
      "text/plain": [
       "{'gaussian_linear': tensor([0.9470]),\n",
       " 'gaussian_linear_uniform': tensor([0.9115]),\n",
       " 'gaussian_mixture': tensor([0.7653]),\n",
       " 'two_moons': tensor([0.7700]),\n",
       " 'slcp': tensor([0.9760]),\n",
       " 'slcp_distractors': tensor([0.9998]),\n",
       " 'sir': tensor([0.6160])}"
      ]
     },
     "execution_count": 3,
     "metadata": {},
     "output_type": "execute_result"
    }
   ],
   "source": [
    "c2st_results = {}\n",
    "for task_name in task_names:\n",
    "    print(task_name)\n",
    "    posterior_samples = torch.tensor(np.genfromtxt(f\"./samples/{task_name}.txt\"))\n",
    "    n = posterior_samples.shape[0]\n",
    "\n",
    "    task = sbibm.get_task(task_name)\n",
    "    reference_samples = task.get_reference_posterior_samples(num_observation=1)\n",
    "    \n",
    "    assert reference_samples.shape[0] > n\n",
    "    reference_samples = reference_samples[0:n]\n",
    "        \n",
    "    assert reference_samples.shape == posterior_samples.shape\n",
    "    c2st_results[task_name] = c2st(reference_samples, posterior_samples)\n",
    "c2st_results"
   ]
  },
  {
   "cell_type": "code",
   "execution_count": 16,
   "id": "896a468c",
   "metadata": {},
   "outputs": [],
   "source": [
    "posterior_samples = torch.tensor(np.genfromtxt(f\"./samples/{task_names[2]}_rula.txt\"))"
   ]
  },
  {
   "cell_type": "markdown",
   "id": "bca9b06e",
   "metadata": {},
   "source": [
    "### MCMC Effective sample size"
   ]
  },
  {
   "cell_type": "code",
   "execution_count": 29,
   "id": "f97f1a90",
   "metadata": {},
   "outputs": [
    {
     "data": {
      "text/plain": [
       "53.33169966063969"
      ]
     },
     "execution_count": 29,
     "metadata": {},
     "output_type": "execute_result"
    }
   ],
   "source": [
    "posterior_samples = torch.tensor(np.genfromtxt(f\"./samples/{task_names[6]}_rula.txt\"))\n",
    "np.mean(tfp.mcmc.effective_sample_size(posterior_samples))"
   ]
  },
  {
   "cell_type": "code",
   "execution_count": null,
   "id": "b182c38e",
   "metadata": {},
   "outputs": [],
   "source": [
    "c2st_results = pd.DataFrame(c2st_results).to_csv(\"results/c2st.csv\")"
   ]
  },
  {
   "cell_type": "markdown",
   "id": "95504fbb",
   "metadata": {},
   "source": [
    "## Compare prior and posterior variances"
   ]
  },
  {
   "cell_type": "code",
   "execution_count": null,
   "id": "b10e8f02",
   "metadata": {},
   "outputs": [],
   "source": []
  }
 ],
 "metadata": {
  "kernelspec": {
   "display_name": "Python 3",
   "language": "python",
   "name": "python3"
  },
  "language_info": {
   "codemirror_mode": {
    "name": "ipython",
    "version": 3
   },
   "file_extension": ".py",
   "mimetype": "text/x-python",
   "name": "python",
   "nbconvert_exporter": "python",
   "pygments_lexer": "ipython3",
   "version": "3.9.2"
  }
 },
 "nbformat": 4,
 "nbformat_minor": 5
}
